{
 "cells": [
  {
   "cell_type": "markdown",
   "metadata": {},
   "source": [
    "\n",
    "#\tCorrecting Data Classification and creating a good database\n",
    "#\tAUTHOR: 乔昂 - jueta\n",
    "#\tDATE: 13/12/2022\n"
   ]
  },
  {
   "cell_type": "code",
   "execution_count": 123,
   "metadata": {},
   "outputs": [
    {
     "name": "stdout",
     "output_type": "stream",
     "text": [
      "\\data_window\n",
      "\n"
     ]
    }
   ],
   "source": [
    "\n",
    "import pandas as pd\n",
    "import json\n",
    "import matplotlib.pyplot as plt\n",
    "\n",
    "\n",
    "\n",
    "file_path1 = \"joaoData/experiments_05_12/\"\n",
    "sampling_frequency = 1e5\n",
    "\n",
    "with open(file_path1 + 'exp9' + \".json\", 'r') as data_file:    \n",
    "    data = json.loads(data_file.read())  \n",
    "\n",
    "print(\"\\data_window\\n\")\n",
    "measurements_data_window = pd.json_normalize(data['measurements'])\n",
    "processing_data_window = pd.json_normalize(data['processing'])\n",
    "data_window = [measurements_data_window, processing_data_window]\n",
    "data_window = pd.concat(data_window, axis=1)\n",
    "\n"
   ]
  },
  {
   "cell_type": "markdown",
   "metadata": {},
   "source": [
    "# correcting Classification"
   ]
  },
  {
   "cell_type": "code",
   "execution_count": 124,
   "metadata": {},
   "outputs": [],
   "source": [
    "\n",
    "data_window['spray mode.Sjaak'] = data_window['spray mode.Sjaak'].replace(['intermittent 1', 'intermittent'], 'Intermittent')\n",
    "data_window['spray mode.Sjaak'] = data_window['spray mode.Sjaak'].replace(['cone jet '], 'Cone Jet')\n",
    "data_window['spray mode.Sjaak'] = data_window['spray mode.Sjaak'].replace(['dripping', 'dripping 1 '], 'Dripping')\n",
    "data_window['spray mode.Sjaak'] = data_window['spray mode.Sjaak'].replace([''], 'Undefined')"
   ]
  },
  {
   "cell_type": "markdown",
   "metadata": {},
   "source": [
    "# Creating Multi Jet Classification"
   ]
  },
  {
   "cell_type": "code",
   "execution_count": 125,
   "metadata": {},
   "outputs": [],
   "source": [
    "data_window['spray mode.Sjaak'] = data_window['spray mode.Sjaak'].replace([''], 'Undefined')\n",
    "data_window = data_window.dropna()"
   ]
  },
  {
   "cell_type": "markdown",
   "metadata": {},
   "source": [
    "# Plotting"
   ]
  },
  {
   "cell_type": "code",
   "execution_count": 131,
   "metadata": {},
   "outputs": [
    {
     "data": {
      "image/png": "[encoded data removed]",
      "text/plain": [
       "<Figure size 432x288 with 1 Axes>"
      ]
     },
     "metadata": {
      "needs_background": "light"
     },
     "output_type": "display_data"
    }
   ],
   "source": [
    "\n",
    "colors = {'Cone Jet':'red', 'Dripping':'green', 'Intermittent':'blue', 'Multi Jet':'purple', 'Undefined':'black', 'Corona':'cyan'}\n",
    "\n",
    "plt.scatter( data_window.index, data_window['mean'],  c=data_window['spray mode.Sjaak'].map(colors))\n",
    "plt.grid()\n",
    "\n",
    "plt.xlabel('Legend:  blue = Intermittent ; red = Cone Jet ; green = Dripping ; purple = streamer onset ; black = Undefined ')\n",
    "plt.show()\n",
    "\n"
   ]
  },
  {
   "cell_type": "markdown",
   "metadata": {},
   "source": [
    "# Correcting Data\n"
   ]
  },
  {
   "cell_type": "code",
   "execution_count": 128,
   "metadata": {},
   "outputs": [
    {
     "data": {
      "text/html": [
       "<div>\n",
       "<style scoped>\n",
       "    .dataframe tbody tr th:only-of-type {\n",
       "        vertical-align: middle;\n",
       "    }\n",
       "\n",
       "    .dataframe tbody tr th {\n",
       "        vertical-align: top;\n",
       "    }\n",
       "\n",
       "    .dataframe thead th {\n",
       "        text-align: right;\n",
       "    }\n",
       "</style>\n",
       "<table border=\"1\" class=\"dataframe\">\n",
       "  <thead>\n",
       "    <tr style=\"text-align: right;\">\n",
       "      <th></th>\n",
       "      <th>name</th>\n",
       "      <th>data [nA]</th>\n",
       "      <th>flow rate [m3/s]</th>\n",
       "      <th>voltage</th>\n",
       "      <th>current PS</th>\n",
       "      <th>temperature</th>\n",
       "      <th>humidity</th>\n",
       "      <th>date and time</th>\n",
       "      <th>target voltage</th>\n",
       "      <th>mean</th>\n",
       "      <th>variance</th>\n",
       "      <th>deviation</th>\n",
       "      <th>median</th>\n",
       "      <th>rms</th>\n",
       "      <th>spray mode.Sjaak</th>\n",
       "      <th>spray mode.Monica</th>\n",
       "    </tr>\n",
       "  </thead>\n",
       "  <tbody>\n",
       "    <tr>\n",
       "      <th>75</th>\n",
       "      <td>setup/liquid/ethanol</td>\n",
       "      <td>[97.35848999023438, 90.06289672851562, 90.0628...</td>\n",
       "      <td>2.777800e-09</td>\n",
       "      <td>6001.29</td>\n",
       "      <td>3.98847e-08</td>\n",
       "      <td>10</td>\n",
       "      <td>10</td>\n",
       "      <td>Mon_05 Dec 2022</td>\n",
       "      <td>6000</td>\n",
       "      <td>87.480232</td>\n",
       "      <td>15.787815</td>\n",
       "      <td>3.973388</td>\n",
       "      <td>87.295601</td>\n",
       "      <td>87.570427</td>\n",
       "      <td>Cone Jet</td>\n",
       "      <td>no streamer onset</td>\n",
       "    </tr>\n",
       "    <tr>\n",
       "      <th>76</th>\n",
       "      <td>setup/liquid/ethanol</td>\n",
       "      <td>[83.27043914794922, 86.7924575805664, 77.23270...</td>\n",
       "      <td>2.777800e-09</td>\n",
       "      <td>6001.29</td>\n",
       "      <td>3.98847e-08</td>\n",
       "      <td>10</td>\n",
       "      <td>10</td>\n",
       "      <td>Mon_05 Dec 2022</td>\n",
       "      <td>6000</td>\n",
       "      <td>83.568626</td>\n",
       "      <td>11.622869</td>\n",
       "      <td>3.409233</td>\n",
       "      <td>83.522011</td>\n",
       "      <td>83.638130</td>\n",
       "      <td>Cone Jet</td>\n",
       "      <td>no streamer onset</td>\n",
       "    </tr>\n",
       "    <tr>\n",
       "      <th>77</th>\n",
       "      <td>setup/liquid/ethanol</td>\n",
       "      <td>[83.52201080322266, 79.24528503417969, 82.7672...</td>\n",
       "      <td>2.777800e-09</td>\n",
       "      <td>6001.29</td>\n",
       "      <td>3.98847e-08</td>\n",
       "      <td>10</td>\n",
       "      <td>10</td>\n",
       "      <td>Mon_05 Dec 2022</td>\n",
       "      <td>6000</td>\n",
       "      <td>81.462662</td>\n",
       "      <td>13.843820</td>\n",
       "      <td>3.720728</td>\n",
       "      <td>81.509430</td>\n",
       "      <td>81.547592</td>\n",
       "      <td>Cone Jet</td>\n",
       "      <td>no streamer onset</td>\n",
       "    </tr>\n",
       "    <tr>\n",
       "      <th>78</th>\n",
       "      <td>setup/liquid/ethanol</td>\n",
       "      <td>[80.50314331054688, 80.0, 80.50314331054688, 8...</td>\n",
       "      <td>2.777800e-09</td>\n",
       "      <td>6001.29</td>\n",
       "      <td>3.98847e-08</td>\n",
       "      <td>10</td>\n",
       "      <td>10</td>\n",
       "      <td>Mon_05 Dec 2022</td>\n",
       "      <td>6000</td>\n",
       "      <td>80.817657</td>\n",
       "      <td>11.564298</td>\n",
       "      <td>3.400632</td>\n",
       "      <td>80.754723</td>\n",
       "      <td>80.889175</td>\n",
       "      <td>Cone Jet</td>\n",
       "      <td>no streamer onset</td>\n",
       "    </tr>\n",
       "    <tr>\n",
       "      <th>79</th>\n",
       "      <td>setup/liquid/ethanol</td>\n",
       "      <td>[83.27043914794922, 80.0, 84.27672576904297, 8...</td>\n",
       "      <td>2.777800e-09</td>\n",
       "      <td>6001.29</td>\n",
       "      <td>3.98847e-08</td>\n",
       "      <td>10</td>\n",
       "      <td>10</td>\n",
       "      <td>Mon_05 Dec 2022</td>\n",
       "      <td>6000</td>\n",
       "      <td>82.984161</td>\n",
       "      <td>1792.326538</td>\n",
       "      <td>42.335876</td>\n",
       "      <td>80.251572</td>\n",
       "      <td>93.159523</td>\n",
       "      <td>Intermittent</td>\n",
       "      <td>no streamer onset</td>\n",
       "    </tr>\n",
       "    <tr>\n",
       "      <th>80</th>\n",
       "      <td>setup/liquid/ethanol</td>\n",
       "      <td>[80.25157165527344, 82.5157241821289, 79.74842...</td>\n",
       "      <td>2.777800e-09</td>\n",
       "      <td>6001.29</td>\n",
       "      <td>3.98847e-08</td>\n",
       "      <td>10</td>\n",
       "      <td>10</td>\n",
       "      <td>Mon_05 Dec 2022</td>\n",
       "      <td>6000</td>\n",
       "      <td>80.861168</td>\n",
       "      <td>13.399652</td>\n",
       "      <td>3.660554</td>\n",
       "      <td>80.754723</td>\n",
       "      <td>80.943985</td>\n",
       "      <td>Cone Jet</td>\n",
       "      <td>no streamer onset</td>\n",
       "    </tr>\n",
       "    <tr>\n",
       "      <th>81</th>\n",
       "      <td>setup/liquid/ethanol</td>\n",
       "      <td>[79.24528503417969, 82.76729583740234, 83.5220...</td>\n",
       "      <td>2.777800e-09</td>\n",
       "      <td>6001.29</td>\n",
       "      <td>3.98847e-08</td>\n",
       "      <td>10</td>\n",
       "      <td>10</td>\n",
       "      <td>Mon_05 Dec 2022</td>\n",
       "      <td>6000</td>\n",
       "      <td>82.075829</td>\n",
       "      <td>12.725838</td>\n",
       "      <td>3.567329</td>\n",
       "      <td>82.012581</td>\n",
       "      <td>82.153320</td>\n",
       "      <td>Cone Jet</td>\n",
       "      <td>no streamer onset</td>\n",
       "    </tr>\n",
       "    <tr>\n",
       "      <th>82</th>\n",
       "      <td>setup/liquid/ethanol</td>\n",
       "      <td>[75.4717025756836, 73.710693359375, 77.4842834...</td>\n",
       "      <td>2.777800e-09</td>\n",
       "      <td>6301.04</td>\n",
       "      <td>4.3463e-08</td>\n",
       "      <td>10</td>\n",
       "      <td>10</td>\n",
       "      <td>Mon_05 Dec 2022</td>\n",
       "      <td>6300</td>\n",
       "      <td>112.913132</td>\n",
       "      <td>64.788239</td>\n",
       "      <td>8.049114</td>\n",
       "      <td>114.465408</td>\n",
       "      <td>113.199661</td>\n",
       "      <td>Cone Jet</td>\n",
       "      <td>no streamer onset</td>\n",
       "    </tr>\n",
       "    <tr>\n",
       "      <th>83</th>\n",
       "      <td>setup/liquid/ethanol</td>\n",
       "      <td>[118.99370574951172, 114.71698760986328, 117.4...</td>\n",
       "      <td>2.777800e-09</td>\n",
       "      <td>6301.04</td>\n",
       "      <td>4.3463e-08</td>\n",
       "      <td>10</td>\n",
       "      <td>10</td>\n",
       "      <td>Mon_05 Dec 2022</td>\n",
       "      <td>6300</td>\n",
       "      <td>115.558777</td>\n",
       "      <td>13.154943</td>\n",
       "      <td>3.626974</td>\n",
       "      <td>115.471695</td>\n",
       "      <td>115.615685</td>\n",
       "      <td>Cone Jet</td>\n",
       "      <td>no streamer onset</td>\n",
       "    </tr>\n",
       "    <tr>\n",
       "      <th>84</th>\n",
       "      <td>setup/liquid/ethanol</td>\n",
       "      <td>[111.1949691772461, 108.42767333984375, 110.94...</td>\n",
       "      <td>2.777800e-09</td>\n",
       "      <td>6301.04</td>\n",
       "      <td>4.3463e-08</td>\n",
       "      <td>10</td>\n",
       "      <td>10</td>\n",
       "      <td>Mon_05 Dec 2022</td>\n",
       "      <td>6300</td>\n",
       "      <td>110.529800</td>\n",
       "      <td>13.123295</td>\n",
       "      <td>3.622609</td>\n",
       "      <td>110.440254</td>\n",
       "      <td>110.589157</td>\n",
       "      <td>Cone Jet</td>\n",
       "      <td>no streamer onset</td>\n",
       "    </tr>\n",
       "  </tbody>\n",
       "</table>\n",
       "</div>"
      ],
      "text/plain": [
       "                    name                                          data [nA]  \\\n",
       "75  setup/liquid/ethanol  [97.35848999023438, 90.06289672851562, 90.0628...   \n",
       "76  setup/liquid/ethanol  [83.27043914794922, 86.7924575805664, 77.23270...   \n",
       "77  setup/liquid/ethanol  [83.52201080322266, 79.24528503417969, 82.7672...   \n",
       "78  setup/liquid/ethanol  [80.50314331054688, 80.0, 80.50314331054688, 8...   \n",
       "79  setup/liquid/ethanol  [83.27043914794922, 80.0, 84.27672576904297, 8...   \n",
       "80  setup/liquid/ethanol  [80.25157165527344, 82.5157241821289, 79.74842...   \n",
       "81  setup/liquid/ethanol  [79.24528503417969, 82.76729583740234, 83.5220...   \n",
       "82  setup/liquid/ethanol  [75.4717025756836, 73.710693359375, 77.4842834...   \n",
       "83  setup/liquid/ethanol  [118.99370574951172, 114.71698760986328, 117.4...   \n",
       "84  setup/liquid/ethanol  [111.1949691772461, 108.42767333984375, 110.94...   \n",
       "\n",
       "    flow rate [m3/s]  voltage   current PS temperature humidity  \\\n",
       "75      2.777800e-09  6001.29  3.98847e-08          10       10   \n",
       "76      2.777800e-09  6001.29  3.98847e-08          10       10   \n",
       "77      2.777800e-09  6001.29  3.98847e-08          10       10   \n",
       "78      2.777800e-09  6001.29  3.98847e-08          10       10   \n",
       "79      2.777800e-09  6001.29  3.98847e-08          10       10   \n",
       "80      2.777800e-09  6001.29  3.98847e-08          10       10   \n",
       "81      2.777800e-09  6001.29  3.98847e-08          10       10   \n",
       "82      2.777800e-09  6301.04   4.3463e-08          10       10   \n",
       "83      2.777800e-09  6301.04   4.3463e-08          10       10   \n",
       "84      2.777800e-09  6301.04   4.3463e-08          10       10   \n",
       "\n",
       "      date and time  target voltage        mean     variance  deviation  \\\n",
       "75  Mon_05 Dec 2022            6000   87.480232    15.787815   3.973388   \n",
       "76  Mon_05 Dec 2022            6000   83.568626    11.622869   3.409233   \n",
       "77  Mon_05 Dec 2022            6000   81.462662    13.843820   3.720728   \n",
       "78  Mon_05 Dec 2022            6000   80.817657    11.564298   3.400632   \n",
       "79  Mon_05 Dec 2022            6000   82.984161  1792.326538  42.335876   \n",
       "80  Mon_05 Dec 2022            6000   80.861168    13.399652   3.660554   \n",
       "81  Mon_05 Dec 2022            6000   82.075829    12.725838   3.567329   \n",
       "82  Mon_05 Dec 2022            6300  112.913132    64.788239   8.049114   \n",
       "83  Mon_05 Dec 2022            6300  115.558777    13.154943   3.626974   \n",
       "84  Mon_05 Dec 2022            6300  110.529800    13.123295   3.622609   \n",
       "\n",
       "        median         rms spray mode.Sjaak  spray mode.Monica  \n",
       "75   87.295601   87.570427         Cone Jet  no streamer onset  \n",
       "76   83.522011   83.638130         Cone Jet  no streamer onset  \n",
       "77   81.509430   81.547592         Cone Jet  no streamer onset  \n",
       "78   80.754723   80.889175         Cone Jet  no streamer onset  \n",
       "79   80.251572   93.159523     Intermittent  no streamer onset  \n",
       "80   80.754723   80.943985         Cone Jet  no streamer onset  \n",
       "81   82.012581   82.153320         Cone Jet  no streamer onset  \n",
       "82  114.465408  113.199661         Cone Jet  no streamer onset  \n",
       "83  115.471695  115.615685         Cone Jet  no streamer onset  \n",
       "84  110.440254  110.589157         Cone Jet  no streamer onset  "
      ]
     },
     "execution_count": 128,
     "metadata": {},
     "output_type": "execute_result"
    }
   ],
   "source": [
    "data_window[75:85]"
   ]
  },
  {
   "cell_type": "code",
   "execution_count": 130,
   "metadata": {},
   "outputs": [],
   "source": [
    "data_window[170:] = data_window[170:].replace(['Cone Jet', 'Undefined'], 'Corona')"
   ]
  },
  {
   "cell_type": "markdown",
   "metadata": {},
   "source": [
    "# Data to be Exported"
   ]
  },
  {
   "cell_type": "code",
   "execution_count": 132,
   "metadata": {},
   "outputs": [
    {
     "name": "stdout",
     "output_type": "stream",
     "text": [
      "<class 'pandas.core.frame.DataFrame'>\n",
      "RangeIndex: 193 entries, 0 to 192\n",
      "Data columns (total 2 columns):\n",
      " #   Column  Non-Null Count  Dtype \n",
      "---  ------  --------------  ----- \n",
      " 0   data    193 non-null    object\n",
      " 1   class   193 non-null    object\n",
      "dtypes: object(2)\n",
      "memory usage: 3.1+ KB\n"
     ]
    }
   ],
   "source": [
    "data_exported = data_window.loc[:, [\"data [nA]\", \"spray mode.Sjaak\"]]\n",
    "data_exported.rename(columns = {'data [nA]':'data', 'spray mode.Sjaak':'class'}, inplace = True)\n",
    "data_exported.info()"
   ]
  },
  {
   "cell_type": "code",
   "execution_count": 133,
   "metadata": {},
   "outputs": [],
   "source": [
    "file_exported_name = \"data9\"\n",
    "data_exported.to_feather('../classified_data/'+ file_exported_name + '.feather')"
   ]
  }
 ],
 "metadata": {
  "kernelspec": {
   "display_name": "Python 3.10.8 64-bit",
   "language": "python",
   "name": "python3"
  },
  "language_info": {
   "codemirror_mode": {
    "name": "ipython",
    "version": 3
   },
   "file_extension": ".py",
   "mimetype": "text/x-python",
   "name": "python",
   "nbconvert_exporter": "python",
   "pygments_lexer": "ipython3",
   "version": "3.10.8"
  },
  "orig_nbformat": 4,
  "vscode": {
   "interpreter": {
    "hash": "b0fa6594d8f4cbf19f97940f81e996739fb7646882a419484c72d19e05852a7e"
   }
  }
 },
 "nbformat": 4,
 "nbformat_minor": 2
}
