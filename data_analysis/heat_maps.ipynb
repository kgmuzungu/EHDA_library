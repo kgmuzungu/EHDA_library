{
 "cells": [
  {
   "cell_type": "markdown",
   "metadata": {},
   "source": [
    "\n",
    "#\tTrying Stuff\n",
    "#\tAUTHOR: 乔昂 - jueta\n",
    "#\tDATE: 13/12/2022\n"
   ]
  },
  {
   "cell_type": "code",
   "execution_count": 45,
   "metadata": {},
   "outputs": [
    {
     "data": {
      "text/html": [
       "<div>\n",
       "<style scoped>\n",
       "    .dataframe tbody tr th:only-of-type {\n",
       "        vertical-align: middle;\n",
       "    }\n",
       "\n",
       "    .dataframe tbody tr th {\n",
       "        vertical-align: top;\n",
       "    }\n",
       "\n",
       "    .dataframe thead th {\n",
       "        text-align: right;\n",
       "    }\n",
       "</style>\n",
       "<table border=\"1\" class=\"dataframe\">\n",
       "  <thead>\n",
       "    <tr style=\"text-align: right;\">\n",
       "      <th></th>\n",
       "      <th>data</th>\n",
       "      <th>class</th>\n",
       "    </tr>\n",
       "  </thead>\n",
       "  <tbody>\n",
       "    <tr>\n",
       "      <th>0</th>\n",
       "      <td>[16.60377311706543, 17.106918334960938, 20.628...</td>\n",
       "      <td>Intermittent</td>\n",
       "    </tr>\n",
       "    <tr>\n",
       "      <th>1</th>\n",
       "      <td>[2.51572322845459, -0.7547169923782349, 4.0251...</td>\n",
       "      <td>Dripping</td>\n",
       "    </tr>\n",
       "    <tr>\n",
       "      <th>2</th>\n",
       "      <td>[4.276729583740234, -4.0251569747924805, 1.509...</td>\n",
       "      <td>Dripping</td>\n",
       "    </tr>\n",
       "    <tr>\n",
       "      <th>3</th>\n",
       "      <td>[-2.7672955989837646, 4.0251569747924805, -1.0...</td>\n",
       "      <td>Dripping</td>\n",
       "    </tr>\n",
       "    <tr>\n",
       "      <th>4</th>\n",
       "      <td>[1.7610063552856445, -6.5408806800842285, -4.0...</td>\n",
       "      <td>Dripping</td>\n",
       "    </tr>\n",
       "  </tbody>\n",
       "</table>\n",
       "</div>"
      ],
      "text/plain": [
       "                                                data         class\n",
       "0  [16.60377311706543, 17.106918334960938, 20.628...  Intermittent\n",
       "1  [2.51572322845459, -0.7547169923782349, 4.0251...      Dripping\n",
       "2  [4.276729583740234, -4.0251569747924805, 1.509...      Dripping\n",
       "3  [-2.7672955989837646, 4.0251569747924805, -1.0...      Dripping\n",
       "4  [1.7610063552856445, -6.5408806800842285, -4.0...      Dripping"
      ]
     },
     "execution_count": 45,
     "metadata": {},
     "output_type": "execute_result"
    }
   ],
   "source": [
    "\n",
    "import pandas as pd\n",
    "import json\n",
    "import matplotlib.pyplot as plt\n",
    "import seaborn as sns\n",
    "import numpy as np\n",
    "\n",
    "\n",
    "data = pd.read_feather('data1.feather')\n",
    "data.head()"
   ]
  },
  {
   "cell_type": "code",
   "execution_count": 44,
   "metadata": {},
   "outputs": [
    {
     "name": "stdout",
     "output_type": "stream",
     "text": [
      "(32,)\n"
     ]
    }
   ],
   "source": [
    "dripping = data.loc[data['class'] == 'Dripping']\n",
    "\n",
    "dripping_data = dripping['data']\n",
    "\n",
    "dripping_data = dripping_data.to_numpy()\n",
    "\n",
    "# dripping_data = np.asmatrix(dripping_data)\n",
    "\n",
    "print(dripping_data.shape)\n",
    "\n",
    "# ax = sns.heatmap(dripping_data, linewidth=0.5)\n",
    "# plt.show()\n",
    "\n"
   ]
  },
  {
   "cell_type": "markdown",
   "metadata": {},
   "source": [
    "# Creating Statistical X classifications HEAT MAP\n"
   ]
  },
  {
   "cell_type": "code",
   "execution_count": 54,
   "metadata": {},
   "outputs": [
    {
     "data": {
      "text/html": [
       "<div>\n",
       "<style scoped>\n",
       "    .dataframe tbody tr th:only-of-type {\n",
       "        vertical-align: middle;\n",
       "    }\n",
       "\n",
       "    .dataframe tbody tr th {\n",
       "        vertical-align: top;\n",
       "    }\n",
       "\n",
       "    .dataframe thead th {\n",
       "        text-align: right;\n",
       "    }\n",
       "</style>\n",
       "<table border=\"1\" class=\"dataframe\">\n",
       "  <thead>\n",
       "    <tr style=\"text-align: right;\">\n",
       "      <th></th>\n",
       "      <th>name</th>\n",
       "      <th>data [nA]</th>\n",
       "      <th>flow rate [m3/s]</th>\n",
       "      <th>voltage</th>\n",
       "      <th>current PS</th>\n",
       "      <th>temperature</th>\n",
       "      <th>humidity</th>\n",
       "      <th>date and time</th>\n",
       "      <th>target voltage</th>\n",
       "      <th>mean</th>\n",
       "      <th>variance</th>\n",
       "      <th>deviation</th>\n",
       "      <th>median</th>\n",
       "      <th>rms</th>\n",
       "      <th>spray mode.Sjaak</th>\n",
       "      <th>spray mode.Monica</th>\n",
       "    </tr>\n",
       "  </thead>\n",
       "  <tbody>\n",
       "    <tr>\n",
       "      <th>0</th>\n",
       "      <td>setup/liquid/ethanol</td>\n",
       "      <td>[16.60377311706543, 17.106918334960938, 20.628...</td>\n",
       "      <td>2.777800e-09</td>\n",
       "      <td>3001.54</td>\n",
       "      <td>-8.72663e-09</td>\n",
       "      <td>10</td>\n",
       "      <td>10</td>\n",
       "      <td>Mon_05 Dec 2022</td>\n",
       "      <td>3000</td>\n",
       "      <td>9.681536</td>\n",
       "      <td>29.664858</td>\n",
       "      <td>5.446546</td>\n",
       "      <td>9.056603</td>\n",
       "      <td>11.108419</td>\n",
       "      <td>Intermittent</td>\n",
       "      <td>no streamer onset</td>\n",
       "    </tr>\n",
       "    <tr>\n",
       "      <th>1</th>\n",
       "      <td>setup/liquid/ethanol</td>\n",
       "      <td>[2.51572322845459, -0.7547169923782349, 4.0251...</td>\n",
       "      <td>2.777800e-09</td>\n",
       "      <td>3001.54</td>\n",
       "      <td>-8.72663e-09</td>\n",
       "      <td>10</td>\n",
       "      <td>10</td>\n",
       "      <td>Mon_05 Dec 2022</td>\n",
       "      <td>3000</td>\n",
       "      <td>1.308936</td>\n",
       "      <td>11.688127</td>\n",
       "      <td>3.418790</td>\n",
       "      <td>1.257862</td>\n",
       "      <td>3.660798</td>\n",
       "      <td>Dripping</td>\n",
       "      <td>no streamer onset</td>\n",
       "    </tr>\n",
       "    <tr>\n",
       "      <th>2</th>\n",
       "      <td>setup/liquid/ethanol</td>\n",
       "      <td>[4.276729583740234, -4.0251569747924805, 1.509...</td>\n",
       "      <td>2.777800e-09</td>\n",
       "      <td>3051.29</td>\n",
       "      <td>-6.71951e-09</td>\n",
       "      <td>10</td>\n",
       "      <td>10</td>\n",
       "      <td>Mon_05 Dec 2022</td>\n",
       "      <td>3050</td>\n",
       "      <td>0.059411</td>\n",
       "      <td>11.729643</td>\n",
       "      <td>3.424857</td>\n",
       "      <td>0.000000</td>\n",
       "      <td>3.425372</td>\n",
       "      <td>Dripping</td>\n",
       "      <td>no streamer onset</td>\n",
       "    </tr>\n",
       "    <tr>\n",
       "      <th>3</th>\n",
       "      <td>setup/liquid/ethanol</td>\n",
       "      <td>[-2.7672955989837646, 4.0251569747924805, -1.0...</td>\n",
       "      <td>2.777800e-09</td>\n",
       "      <td>3051.29</td>\n",
       "      <td>-6.71951e-09</td>\n",
       "      <td>10</td>\n",
       "      <td>10</td>\n",
       "      <td>Mon_05 Dec 2022</td>\n",
       "      <td>3050</td>\n",
       "      <td>0.275150</td>\n",
       "      <td>11.389175</td>\n",
       "      <td>3.374785</td>\n",
       "      <td>0.251572</td>\n",
       "      <td>3.385983</td>\n",
       "      <td>Dripping</td>\n",
       "      <td>no streamer onset</td>\n",
       "    </tr>\n",
       "    <tr>\n",
       "      <th>4</th>\n",
       "      <td>setup/liquid/ethanol</td>\n",
       "      <td>[1.7610063552856445, -6.5408806800842285, -4.0...</td>\n",
       "      <td>2.777800e-09</td>\n",
       "      <td>3101.34</td>\n",
       "      <td>-5.84684e-09</td>\n",
       "      <td>10</td>\n",
       "      <td>10</td>\n",
       "      <td>Mon_05 Dec 2022</td>\n",
       "      <td>3100</td>\n",
       "      <td>0.277867</td>\n",
       "      <td>10.940171</td>\n",
       "      <td>3.307593</td>\n",
       "      <td>0.251572</td>\n",
       "      <td>3.319244</td>\n",
       "      <td>Dripping</td>\n",
       "      <td>no streamer onset</td>\n",
       "    </tr>\n",
       "  </tbody>\n",
       "</table>\n",
       "</div>"
      ],
      "text/plain": [
       "                   name                                          data [nA]  \\\n",
       "0  setup/liquid/ethanol  [16.60377311706543, 17.106918334960938, 20.628...   \n",
       "1  setup/liquid/ethanol  [2.51572322845459, -0.7547169923782349, 4.0251...   \n",
       "2  setup/liquid/ethanol  [4.276729583740234, -4.0251569747924805, 1.509...   \n",
       "3  setup/liquid/ethanol  [-2.7672955989837646, 4.0251569747924805, -1.0...   \n",
       "4  setup/liquid/ethanol  [1.7610063552856445, -6.5408806800842285, -4.0...   \n",
       "\n",
       "   flow rate [m3/s]  voltage    current PS temperature humidity  \\\n",
       "0      2.777800e-09  3001.54  -8.72663e-09          10       10   \n",
       "1      2.777800e-09  3001.54  -8.72663e-09          10       10   \n",
       "2      2.777800e-09  3051.29  -6.71951e-09          10       10   \n",
       "3      2.777800e-09  3051.29  -6.71951e-09          10       10   \n",
       "4      2.777800e-09  3101.34  -5.84684e-09          10       10   \n",
       "\n",
       "     date and time  target voltage      mean   variance  deviation    median  \\\n",
       "0  Mon_05 Dec 2022            3000  9.681536  29.664858   5.446546  9.056603   \n",
       "1  Mon_05 Dec 2022            3000  1.308936  11.688127   3.418790  1.257862   \n",
       "2  Mon_05 Dec 2022            3050  0.059411  11.729643   3.424857  0.000000   \n",
       "3  Mon_05 Dec 2022            3050  0.275150  11.389175   3.374785  0.251572   \n",
       "4  Mon_05 Dec 2022            3100  0.277867  10.940171   3.307593  0.251572   \n",
       "\n",
       "         rms spray mode.Sjaak  spray mode.Monica  \n",
       "0  11.108419     Intermittent  no streamer onset  \n",
       "1   3.660798         Dripping  no streamer onset  \n",
       "2   3.425372         Dripping  no streamer onset  \n",
       "3   3.385983         Dripping  no streamer onset  \n",
       "4   3.319244         Dripping  no streamer onset  "
      ]
     },
     "execution_count": 54,
     "metadata": {},
     "output_type": "execute_result"
    }
   ],
   "source": [
    "data_window = pd.read_feather('data_window1.feather')\n",
    "data_window.head()"
   ]
  },
  {
   "cell_type": "code",
   "execution_count": 57,
   "metadata": {},
   "outputs": [
    {
     "name": "stdout",
     "output_type": "stream",
     "text": [
      "                     name                                          data [nA]  \\\n",
      "145  setup/liquid/ethanol  [104.90565490722656, 111.1949691772461, 106.66...   \n",
      "20   setup/liquid/ethanol  [-1.5094339847564697, 0.25157231092453003, -4....   \n",
      "14   setup/liquid/ethanol  [0.7547169923782349, 4.0251569747924805, -0.75...   \n",
      "264  setup/liquid/ethanol  [139.11949157714844, 138.36477661132812, 145.1...   \n",
      "147  setup/liquid/ethanol  [72.95597076416016, 67.42138671875, 76.2264099...   \n",
      "..                    ...                                                ...   \n",
      "139  setup/liquid/ethanol  [102.38993835449219, 97.10691833496094, 99.874...   \n",
      "137  setup/liquid/ethanol  [102.89308166503906, 101.13207244873047, 107.6...   \n",
      "136  setup/liquid/ethanol  [101.38365173339844, 104.15093994140625, 102.6...   \n",
      "135  setup/liquid/ethanol  [101.13207244873047, 100.37735748291016, 101.6...   \n",
      "132  setup/liquid/ethanol  [73.20755004882812, 77.23270416259766, 76.2264...   \n",
      "\n",
      "     flow rate [m3/s]  voltage    current PS temperature humidity  \\\n",
      "145      2.777800e-09  7001.59   7.57548e-08          10       10   \n",
      "20       2.777800e-09  3551.38  -6.63224e-09          10       10   \n",
      "14       2.777800e-09  3351.46  -8.90117e-09          10       10   \n",
      "264      2.777800e-09  10251.2   1.45924e-07          10       10   \n",
      "147      2.777800e-09  7051.32   3.90119e-08          10       10   \n",
      "..                ...      ...           ...         ...      ...   \n",
      "139      2.777800e-09  6801.27   7.33983e-08          10       10   \n",
      "137      2.777800e-09  6751.56   7.33983e-08          10       10   \n",
      "136      2.777800e-09  6751.56   7.33983e-08          10       10   \n",
      "135      2.777800e-09  6701.46    7.2351e-08          10       10   \n",
      "132      2.777800e-09  6651.43   4.86122e-08          10       10   \n",
      "\n",
      "       date and time  target voltage        mean     variance  deviation  \\\n",
      "145  Mon_05 Dec 2022            7000   73.113472   587.073181  24.229593   \n",
      "20   Mon_05 Dec 2022            3550   -0.051074    10.894595   3.300696   \n",
      "14   Mon_05 Dec 2022            3350   -0.036714    11.161729   3.340917   \n",
      "264  Mon_05 Dec 2022           10250  133.634415  2434.191650  49.337528   \n",
      "147  Mon_05 Dec 2022            7050   64.612312   585.541077  24.197956   \n",
      "..               ...             ...         ...          ...        ...   \n",
      "139  Mon_05 Dec 2022            6800  100.745689    11.945660   3.456249   \n",
      "137  Mon_05 Dec 2022            6750  102.067581    12.449827   3.528431   \n",
      "136  Mon_05 Dec 2022            6750  102.685349    12.974382   3.601997   \n",
      "135  Mon_05 Dec 2022            6700  101.780952    15.005898   3.873745   \n",
      "132  Mon_05 Dec 2022            6650   89.394150    69.183197   8.317644   \n",
      "\n",
      "         median         rms spray mode.Sjaak  spray mode.Monica  \n",
      "145   76.729561   77.023720        Undefined  no streamer onset  \n",
      "20     0.000000    3.301091        Undefined  no streamer onset  \n",
      "14     0.000000    3.341119        Undefined  no streamer onset  \n",
      "264  131.320755  142.451218        Undefined     streamer onset  \n",
      "147   62.641510   68.994873        Undefined  no streamer onset  \n",
      "..          ...         ...              ...                ...  \n",
      "139  100.628929  100.804962         Cone Jet  no streamer onset  \n",
      "137  102.138359  102.128555         Cone Jet  no streamer onset  \n",
      "136  102.641510  102.748505         Cone Jet  no streamer onset  \n",
      "135  101.635216  101.854645         Cone Jet  no streamer onset  \n",
      "132   91.320755   89.780266         Cone Jet  no streamer onset  \n",
      "\n",
      "[290 rows x 16 columns]\n"
     ]
    }
   ],
   "source": [
    "data_window.sort_values('spray mode.Sjaak',inplace=True, ascending=False)\n",
    "\n",
    "print(data_window)"
   ]
  },
  {
   "cell_type": "code",
   "execution_count": 62,
   "metadata": {},
   "outputs": [
    {
     "data": {
      "text/plain": [
       "Index(['flow rate [m3/s]', 'voltage', 'mean', 'variance', 'deviation',\n",
       "       'median', 'rms', 'spray mode.Sjaak'],\n",
       "      dtype='object')"
      ]
     },
     "execution_count": 62,
     "metadata": {},
     "output_type": "execute_result"
    }
   ],
   "source": [
    "\n",
    "data_window = data_window.drop(['name', 'data [nA]','current PS', 'temperature', 'humidity', 'date and time', 'target voltage', 'spray mode.Monica'], axis=1)\n",
    "\n",
    "data_window.columns\n"
   ]
  },
  {
   "cell_type": "code",
   "execution_count": 63,
   "metadata": {},
   "outputs": [
    {
     "data": {
      "text/plain": [
       "Index(['flow_rate', 'voltage', 'mean', 'variance', 'deviation', 'median',\n",
       "       'rms', 'class'],\n",
       "      dtype='object')"
      ]
     },
     "execution_count": 63,
     "metadata": {},
     "output_type": "execute_result"
    }
   ],
   "source": [
    "data_window.rename(columns = {'flow rate [m3/s]':'flow_rate', 'spray mode.Sjaak':'class'}, inplace = True)\n",
    "\n",
    "data_window.columns\n"
   ]
  },
  {
   "cell_type": "code",
   "execution_count": 69,
   "metadata": {},
   "outputs": [
    {
     "data": {
      "text/html": [
       "<div>\n",
       "<style scoped>\n",
       "    .dataframe tbody tr th:only-of-type {\n",
       "        vertical-align: middle;\n",
       "    }\n",
       "\n",
       "    .dataframe tbody tr th {\n",
       "        vertical-align: top;\n",
       "    }\n",
       "\n",
       "    .dataframe thead th {\n",
       "        text-align: right;\n",
       "    }\n",
       "</style>\n",
       "<table border=\"1\" class=\"dataframe\">\n",
       "  <thead>\n",
       "    <tr style=\"text-align: right;\">\n",
       "      <th></th>\n",
       "      <th>flow_rate</th>\n",
       "      <th>voltage</th>\n",
       "      <th>mean</th>\n",
       "      <th>variance</th>\n",
       "      <th>deviation</th>\n",
       "      <th>median</th>\n",
       "      <th>rms</th>\n",
       "    </tr>\n",
       "    <tr>\n",
       "      <th>class</th>\n",
       "      <th></th>\n",
       "      <th></th>\n",
       "      <th></th>\n",
       "      <th></th>\n",
       "      <th></th>\n",
       "      <th></th>\n",
       "      <th></th>\n",
       "    </tr>\n",
       "  </thead>\n",
       "  <tbody>\n",
       "    <tr>\n",
       "      <th>Undefined</th>\n",
       "      <td>2.777800e-09</td>\n",
       "      <td>7001.59</td>\n",
       "      <td>73.113472</td>\n",
       "      <td>587.073181</td>\n",
       "      <td>24.229593</td>\n",
       "      <td>76.729561</td>\n",
       "      <td>77.023720</td>\n",
       "    </tr>\n",
       "    <tr>\n",
       "      <th>Undefined</th>\n",
       "      <td>2.777800e-09</td>\n",
       "      <td>3551.38</td>\n",
       "      <td>-0.051074</td>\n",
       "      <td>10.894595</td>\n",
       "      <td>3.300696</td>\n",
       "      <td>0.000000</td>\n",
       "      <td>3.301091</td>\n",
       "    </tr>\n",
       "    <tr>\n",
       "      <th>Undefined</th>\n",
       "      <td>2.777800e-09</td>\n",
       "      <td>3351.46</td>\n",
       "      <td>-0.036714</td>\n",
       "      <td>11.161729</td>\n",
       "      <td>3.340917</td>\n",
       "      <td>0.000000</td>\n",
       "      <td>3.341119</td>\n",
       "    </tr>\n",
       "    <tr>\n",
       "      <th>Undefined</th>\n",
       "      <td>2.777800e-09</td>\n",
       "      <td>10251.2</td>\n",
       "      <td>133.634415</td>\n",
       "      <td>2434.191650</td>\n",
       "      <td>49.337528</td>\n",
       "      <td>131.320755</td>\n",
       "      <td>142.451218</td>\n",
       "    </tr>\n",
       "    <tr>\n",
       "      <th>Undefined</th>\n",
       "      <td>2.777800e-09</td>\n",
       "      <td>7051.32</td>\n",
       "      <td>64.612312</td>\n",
       "      <td>585.541077</td>\n",
       "      <td>24.197956</td>\n",
       "      <td>62.641510</td>\n",
       "      <td>68.994873</td>\n",
       "    </tr>\n",
       "  </tbody>\n",
       "</table>\n",
       "</div>"
      ],
      "text/plain": [
       "              flow_rate  voltage        mean     variance  deviation  \\\n",
       "class                                                                  \n",
       "Undefined  2.777800e-09  7001.59   73.113472   587.073181  24.229593   \n",
       "Undefined  2.777800e-09  3551.38   -0.051074    10.894595   3.300696   \n",
       "Undefined  2.777800e-09  3351.46   -0.036714    11.161729   3.340917   \n",
       "Undefined  2.777800e-09  10251.2  133.634415  2434.191650  49.337528   \n",
       "Undefined  2.777800e-09  7051.32   64.612312   585.541077  24.197956   \n",
       "\n",
       "               median         rms  \n",
       "class                              \n",
       "Undefined   76.729561   77.023720  \n",
       "Undefined    0.000000    3.301091  \n",
       "Undefined    0.000000    3.341119  \n",
       "Undefined  131.320755  142.451218  \n",
       "Undefined   62.641510   68.994873  "
      ]
     },
     "execution_count": 69,
     "metadata": {},
     "output_type": "execute_result"
    }
   ],
   "source": [
    "data_window = data_window.set_index('class')\n",
    "data_window.head()"
   ]
  },
  {
   "cell_type": "code",
   "execution_count": 85,
   "metadata": {},
   "outputs": [
    {
     "data": {
      "text/html": [
       "<div>\n",
       "<style scoped>\n",
       "    .dataframe tbody tr th:only-of-type {\n",
       "        vertical-align: middle;\n",
       "    }\n",
       "\n",
       "    .dataframe tbody tr th {\n",
       "        vertical-align: top;\n",
       "    }\n",
       "\n",
       "    .dataframe thead th {\n",
       "        text-align: right;\n",
       "    }\n",
       "</style>\n",
       "<table border=\"1\" class=\"dataframe\">\n",
       "  <thead>\n",
       "    <tr style=\"text-align: right;\">\n",
       "      <th></th>\n",
       "      <th>flow_rate</th>\n",
       "      <th>voltage</th>\n",
       "      <th>mean</th>\n",
       "      <th>variance</th>\n",
       "      <th>deviation</th>\n",
       "      <th>median</th>\n",
       "      <th>rms</th>\n",
       "    </tr>\n",
       "    <tr>\n",
       "      <th>class</th>\n",
       "      <th></th>\n",
       "      <th></th>\n",
       "      <th></th>\n",
       "      <th></th>\n",
       "      <th></th>\n",
       "      <th></th>\n",
       "      <th></th>\n",
       "    </tr>\n",
       "  </thead>\n",
       "  <tbody>\n",
       "    <tr>\n",
       "      <th>Cone Jet</th>\n",
       "      <td>2.777800e-09</td>\n",
       "      <td>6801.27</td>\n",
       "      <td>100.745689</td>\n",
       "      <td>11.945660</td>\n",
       "      <td>3.456249</td>\n",
       "      <td>100.628929</td>\n",
       "      <td>100.804962</td>\n",
       "    </tr>\n",
       "    <tr>\n",
       "      <th>Cone Jet</th>\n",
       "      <td>2.777800e-09</td>\n",
       "      <td>6751.56</td>\n",
       "      <td>102.067581</td>\n",
       "      <td>12.449827</td>\n",
       "      <td>3.528431</td>\n",
       "      <td>102.138359</td>\n",
       "      <td>102.128555</td>\n",
       "    </tr>\n",
       "    <tr>\n",
       "      <th>Cone Jet</th>\n",
       "      <td>2.777800e-09</td>\n",
       "      <td>6751.56</td>\n",
       "      <td>102.685349</td>\n",
       "      <td>12.974382</td>\n",
       "      <td>3.601997</td>\n",
       "      <td>102.641510</td>\n",
       "      <td>102.748505</td>\n",
       "    </tr>\n",
       "    <tr>\n",
       "      <th>Cone Jet</th>\n",
       "      <td>2.777800e-09</td>\n",
       "      <td>6701.46</td>\n",
       "      <td>101.780952</td>\n",
       "      <td>15.005898</td>\n",
       "      <td>3.873745</td>\n",
       "      <td>101.635216</td>\n",
       "      <td>101.854645</td>\n",
       "    </tr>\n",
       "    <tr>\n",
       "      <th>Cone Jet</th>\n",
       "      <td>2.777800e-09</td>\n",
       "      <td>6651.43</td>\n",
       "      <td>89.394150</td>\n",
       "      <td>69.183197</td>\n",
       "      <td>8.317644</td>\n",
       "      <td>91.320755</td>\n",
       "      <td>89.780266</td>\n",
       "    </tr>\n",
       "  </tbody>\n",
       "</table>\n",
       "</div>"
      ],
      "text/plain": [
       "             flow_rate  voltage        mean   variance  deviation      median  \\\n",
       "class                                                                           \n",
       "Cone Jet  2.777800e-09  6801.27  100.745689  11.945660   3.456249  100.628929   \n",
       "Cone Jet  2.777800e-09  6751.56  102.067581  12.449827   3.528431  102.138359   \n",
       "Cone Jet  2.777800e-09  6751.56  102.685349  12.974382   3.601997  102.641510   \n",
       "Cone Jet  2.777800e-09  6701.46  101.780952  15.005898   3.873745  101.635216   \n",
       "Cone Jet  2.777800e-09  6651.43   89.394150  69.183197   8.317644   91.320755   \n",
       "\n",
       "                 rms  \n",
       "class                 \n",
       "Cone Jet  100.804962  \n",
       "Cone Jet  102.128555  \n",
       "Cone Jet  102.748505  \n",
       "Cone Jet  101.854645  \n",
       "Cone Jet   89.780266  "
      ]
     },
     "execution_count": 85,
     "metadata": {},
     "output_type": "execute_result"
    }
   ],
   "source": [
    "data_window['voltage'] = data_window['voltage'].astype(float)\n",
    "data_window.tail()"
   ]
  },
  {
   "cell_type": "code",
   "execution_count": 117,
   "metadata": {},
   "outputs": [],
   "source": [
    "ConeJet_test = data_window.loc['Cone Jet']\n",
    "ConeJet_test = ConeJet_test.drop(['flow_rate', 'voltage', 'variance', 'deviation'], axis=1).transpose()\n",
    "\n",
    "MultiJet_test = data_window.loc['Multi Jet']\n",
    "MultiJet_test = MultiJet_test.drop(['flow_rate', 'voltage', 'variance', 'deviation'], axis=1).transpose()\n",
    "\n",
    "Intermittent_test = data_window.loc['Intermittent']\n",
    "Intermittent_test = Intermittent_test.drop(['flow_rate', 'voltage', 'variance', 'deviation'], axis=1).transpose()\n",
    "\n",
    "Undefined_test = data_window.loc['Undefined']\n",
    "Undefined_test = Undefined_test.drop(['flow_rate', 'voltage', 'variance', 'deviation'], axis=1).transpose()\n",
    "\n",
    "Dripping_test = data_window.loc['Dripping']\n",
    "Dripping_test = Dripping_test.drop(['flow_rate', 'voltage', 'variance', 'deviation'], axis=1).transpose()\n",
    "\n",
    "Corona_test = data_window.loc['Corona']\n",
    "Corona_test = Corona_test.drop(['flow_rate', 'voltage', 'variance', 'deviation'], axis=1).transpose()"
   ]
  },
  {
   "cell_type": "code",
   "execution_count": 134,
   "metadata": {},
   "outputs": [
    {
     "data": {
      "image/png": "[encoded data removed]",
      "text/plain": [
       "<Figure size 432x288 with 2 Axes>"
      ]
     },
     "metadata": {
      "needs_background": "light"
     },
     "output_type": "display_data"
    }
   ],
   "source": [
    "import seaborn as sns\n",
    "\n",
    "ax = sns.heatmap(ConeJet_test, vmax=150)\n"
   ]
  },
  {
   "cell_type": "code",
   "execution_count": 135,
   "metadata": {},
   "outputs": [
    {
     "data": {
      "text/plain": [
       "<AxesSubplot:xlabel='class'>"
      ]
     },
     "execution_count": 135,
     "metadata": {},
     "output_type": "execute_result"
    },
    {
     "data": {
      "image/png": "[encoded data removed]",
      "text/plain": [
       "<Figure size 432x288 with 2 Axes>"
      ]
     },
     "metadata": {
      "needs_background": "light"
     },
     "output_type": "display_data"
    }
   ],
   "source": [
    "sns.heatmap(MultiJet_test, vmax=150)\n"
   ]
  },
  {
   "cell_type": "code",
   "execution_count": 136,
   "metadata": {},
   "outputs": [
    {
     "data": {
      "text/plain": [
       "<AxesSubplot:xlabel='class'>"
      ]
     },
     "execution_count": 136,
     "metadata": {},
     "output_type": "execute_result"
    },
    {
     "data": {
      "image/png": "[encoded data removed]",
      "text/plain": [
       "<Figure size 432x288 with 2 Axes>"
      ]
     },
     "metadata": {
      "needs_background": "light"
     },
     "output_type": "display_data"
    }
   ],
   "source": [
    "sns.heatmap(Dripping_test, vmax=150)"
   ]
  },
  {
   "cell_type": "code",
   "execution_count": 137,
   "metadata": {},
   "outputs": [
    {
     "data": {
      "text/plain": [
       "<AxesSubplot:xlabel='class'>"
      ]
     },
     "execution_count": 137,
     "metadata": {},
     "output_type": "execute_result"
    },
    {
     "data": {
      "image/png": "[encoded data removed]",
      "text/plain": [
       "<Figure size 432x288 with 2 Axes>"
      ]
     },
     "metadata": {
      "needs_background": "light"
     },
     "output_type": "display_data"
    }
   ],
   "source": [
    "sns.heatmap(Intermittent_test, vmax=150)"
   ]
  }
 ],
 "metadata": {
  "kernelspec": {
   "display_name": "Python 3.10.8 64-bit",
   "language": "python",
   "name": "python3"
  },
  "language_info": {
   "codemirror_mode": {
    "name": "ipython",
    "version": 3
   },
   "file_extension": ".py",
   "mimetype": "text/x-python",
   "name": "python",
   "nbconvert_exporter": "python",
   "pygments_lexer": "ipython3",
   "version": "3.10.8"
  },
  "orig_nbformat": 4,
  "vscode": {
   "interpreter": {
    "hash": "b0fa6594d8f4cbf19f97940f81e996739fb7646882a419484c72d19e05852a7e"
   }
  }
 },
 "nbformat": 4,
 "nbformat_minor": 2
}
