{
 "cells": [
  {
   "cell_type": "markdown",
   "metadata": {},
   "source": [
    "\n",
    "#\tTrying Stuff\n",
    "#\tAUTHOR: 乔昂 - jueta\n",
    "#\tDATE: 13/12/2022\n"
   ]
  },
  {
   "cell_type": "code",
   "execution_count": 3,
   "metadata": {},
   "outputs": [
    {
     "data": {
      "text/html": [
       "<div>\n",
       "<style scoped>\n",
       "    .dataframe tbody tr th:only-of-type {\n",
       "        vertical-align: middle;\n",
       "    }\n",
       "\n",
       "    .dataframe tbody tr th {\n",
       "        vertical-align: top;\n",
       "    }\n",
       "\n",
       "    .dataframe thead th {\n",
       "        text-align: right;\n",
       "    }\n",
       "</style>\n",
       "<table border=\"1\" class=\"dataframe\">\n",
       "  <thead>\n",
       "    <tr style=\"text-align: right;\">\n",
       "      <th></th>\n",
       "      <th>data</th>\n",
       "      <th>class</th>\n",
       "    </tr>\n",
       "  </thead>\n",
       "  <tbody>\n",
       "    <tr>\n",
       "      <th>0</th>\n",
       "      <td>[16.60377311706543, 17.106918334960938, 20.628...</td>\n",
       "      <td>Intermittent</td>\n",
       "    </tr>\n",
       "    <tr>\n",
       "      <th>1</th>\n",
       "      <td>[2.51572322845459, -0.7547169923782349, 4.0251...</td>\n",
       "      <td>Dripping</td>\n",
       "    </tr>\n",
       "    <tr>\n",
       "      <th>2</th>\n",
       "      <td>[4.276729583740234, -4.0251569747924805, 1.509...</td>\n",
       "      <td>Dripping</td>\n",
       "    </tr>\n",
       "    <tr>\n",
       "      <th>3</th>\n",
       "      <td>[-2.7672955989837646, 4.0251569747924805, -1.0...</td>\n",
       "      <td>Dripping</td>\n",
       "    </tr>\n",
       "    <tr>\n",
       "      <th>4</th>\n",
       "      <td>[1.7610063552856445, -6.5408806800842285, -4.0...</td>\n",
       "      <td>Dripping</td>\n",
       "    </tr>\n",
       "  </tbody>\n",
       "</table>\n",
       "</div>"
      ],
      "text/plain": [
       "                                                data         class\n",
       "0  [16.60377311706543, 17.106918334960938, 20.628...  Intermittent\n",
       "1  [2.51572322845459, -0.7547169923782349, 4.0251...      Dripping\n",
       "2  [4.276729583740234, -4.0251569747924805, 1.509...      Dripping\n",
       "3  [-2.7672955989837646, 4.0251569747924805, -1.0...      Dripping\n",
       "4  [1.7610063552856445, -6.5408806800842285, -4.0...      Dripping"
      ]
     },
     "execution_count": 3,
     "metadata": {},
     "output_type": "execute_result"
    }
   ],
   "source": [
    "\n",
    "import pandas as pd\n",
    "import json\n",
    "import matplotlib.pyplot as plt\n",
    "import seaborn as sns\n",
    "import numpy as np\n",
    "\n",
    "\n",
    "data = pd.read_feather('../classified_data/data1.feather')\n",
    "data.head()"
   ]
  },
  {
   "cell_type": "code",
   "execution_count": 4,
   "metadata": {},
   "outputs": [
    {
     "name": "stdout",
     "output_type": "stream",
     "text": [
      "(32,)\n"
     ]
    }
   ],
   "source": [
    "dripping = data.loc[data['class'] == 'Dripping']\n",
    "\n",
    "dripping_data = dripping['data']\n",
    "\n",
    "dripping_data = dripping_data.to_numpy()\n",
    "\n",
    "# dripping_data = np.asmatrix(dripping_data)\n",
    "\n",
    "print(dripping_data.shape)\n",
    "\n",
    "# ax = sns.heatmap(dripping_data, linewidth=0.5)\n",
    "# plt.show()\n",
    "\n"
   ]
  },
  {
   "cell_type": "markdown",
   "metadata": {},
   "source": [
    "# Creating Statistical X classifications HEAT MAP\n"
   ]
  },
  {
   "cell_type": "code",
   "execution_count": 9,
   "metadata": {},
   "outputs": [
    {
     "data": {
      "text/html": [
       "<div>\n",
       "<style scoped>\n",
       "    .dataframe tbody tr th:only-of-type {\n",
       "        vertical-align: middle;\n",
       "    }\n",
       "\n",
       "    .dataframe tbody tr th {\n",
       "        vertical-align: top;\n",
       "    }\n",
       "\n",
       "    .dataframe thead th {\n",
       "        text-align: right;\n",
       "    }\n",
       "</style>\n",
       "<table border=\"1\" class=\"dataframe\">\n",
       "  <thead>\n",
       "    <tr style=\"text-align: right;\">\n",
       "      <th></th>\n",
       "      <th>name</th>\n",
       "      <th>data [nA]</th>\n",
       "      <th>flow rate [m3/s]</th>\n",
       "      <th>voltage</th>\n",
       "      <th>current PS</th>\n",
       "      <th>temperature</th>\n",
       "      <th>humidity</th>\n",
       "      <th>date and time</th>\n",
       "      <th>target voltage</th>\n",
       "      <th>mean</th>\n",
       "      <th>variance</th>\n",
       "      <th>deviation</th>\n",
       "      <th>median</th>\n",
       "      <th>rms</th>\n",
       "      <th>spray mode.Sjaak</th>\n",
       "      <th>spray mode.Monica</th>\n",
       "    </tr>\n",
       "  </thead>\n",
       "  <tbody>\n",
       "    <tr>\n",
       "      <th>0</th>\n",
       "      <td>setup/liquid/ethanol</td>\n",
       "      <td>[16.60377311706543, 17.106918334960938, 20.628...</td>\n",
       "      <td>2.777800e-09</td>\n",
       "      <td>3001.54</td>\n",
       "      <td>-8.72663e-09</td>\n",
       "      <td>10</td>\n",
       "      <td>10</td>\n",
       "      <td>Mon_05 Dec 2022</td>\n",
       "      <td>3000</td>\n",
       "      <td>9.681536</td>\n",
       "      <td>29.664858</td>\n",
       "      <td>5.446546</td>\n",
       "      <td>9.056603</td>\n",
       "      <td>11.108419</td>\n",
       "      <td>Intermittent</td>\n",
       "      <td>no streamer onset</td>\n",
       "    </tr>\n",
       "    <tr>\n",
       "      <th>1</th>\n",
       "      <td>setup/liquid/ethanol</td>\n",
       "      <td>[2.51572322845459, -0.7547169923782349, 4.0251...</td>\n",
       "      <td>2.777800e-09</td>\n",
       "      <td>3001.54</td>\n",
       "      <td>-8.72663e-09</td>\n",
       "      <td>10</td>\n",
       "      <td>10</td>\n",
       "      <td>Mon_05 Dec 2022</td>\n",
       "      <td>3000</td>\n",
       "      <td>1.308936</td>\n",
       "      <td>11.688127</td>\n",
       "      <td>3.418790</td>\n",
       "      <td>1.257862</td>\n",
       "      <td>3.660798</td>\n",
       "      <td>Dripping</td>\n",
       "      <td>no streamer onset</td>\n",
       "    </tr>\n",
       "    <tr>\n",
       "      <th>2</th>\n",
       "      <td>setup/liquid/ethanol</td>\n",
       "      <td>[4.276729583740234, -4.0251569747924805, 1.509...</td>\n",
       "      <td>2.777800e-09</td>\n",
       "      <td>3051.29</td>\n",
       "      <td>-6.71951e-09</td>\n",
       "      <td>10</td>\n",
       "      <td>10</td>\n",
       "      <td>Mon_05 Dec 2022</td>\n",
       "      <td>3050</td>\n",
       "      <td>0.059411</td>\n",
       "      <td>11.729643</td>\n",
       "      <td>3.424857</td>\n",
       "      <td>0.000000</td>\n",
       "      <td>3.425372</td>\n",
       "      <td>Dripping</td>\n",
       "      <td>no streamer onset</td>\n",
       "    </tr>\n",
       "    <tr>\n",
       "      <th>3</th>\n",
       "      <td>setup/liquid/ethanol</td>\n",
       "      <td>[-2.7672955989837646, 4.0251569747924805, -1.0...</td>\n",
       "      <td>2.777800e-09</td>\n",
       "      <td>3051.29</td>\n",
       "      <td>-6.71951e-09</td>\n",
       "      <td>10</td>\n",
       "      <td>10</td>\n",
       "      <td>Mon_05 Dec 2022</td>\n",
       "      <td>3050</td>\n",
       "      <td>0.275150</td>\n",
       "      <td>11.389175</td>\n",
       "      <td>3.374785</td>\n",
       "      <td>0.251572</td>\n",
       "      <td>3.385983</td>\n",
       "      <td>Dripping</td>\n",
       "      <td>no streamer onset</td>\n",
       "    </tr>\n",
       "    <tr>\n",
       "      <th>4</th>\n",
       "      <td>setup/liquid/ethanol</td>\n",
       "      <td>[1.7610063552856445, -6.5408806800842285, -4.0...</td>\n",
       "      <td>2.777800e-09</td>\n",
       "      <td>3101.34</td>\n",
       "      <td>-5.84684e-09</td>\n",
       "      <td>10</td>\n",
       "      <td>10</td>\n",
       "      <td>Mon_05 Dec 2022</td>\n",
       "      <td>3100</td>\n",
       "      <td>0.277867</td>\n",
       "      <td>10.940171</td>\n",
       "      <td>3.307593</td>\n",
       "      <td>0.251572</td>\n",
       "      <td>3.319244</td>\n",
       "      <td>Dripping</td>\n",
       "      <td>no streamer onset</td>\n",
       "    </tr>\n",
       "  </tbody>\n",
       "</table>\n",
       "</div>"
      ],
      "text/plain": [
       "                   name                                          data [nA]  \\\n",
       "0  setup/liquid/ethanol  [16.60377311706543, 17.106918334960938, 20.628...   \n",
       "1  setup/liquid/ethanol  [2.51572322845459, -0.7547169923782349, 4.0251...   \n",
       "2  setup/liquid/ethanol  [4.276729583740234, -4.0251569747924805, 1.509...   \n",
       "3  setup/liquid/ethanol  [-2.7672955989837646, 4.0251569747924805, -1.0...   \n",
       "4  setup/liquid/ethanol  [1.7610063552856445, -6.5408806800842285, -4.0...   \n",
       "\n",
       "   flow rate [m3/s]  voltage    current PS temperature humidity  \\\n",
       "0      2.777800e-09  3001.54  -8.72663e-09          10       10   \n",
       "1      2.777800e-09  3001.54  -8.72663e-09          10       10   \n",
       "2      2.777800e-09  3051.29  -6.71951e-09          10       10   \n",
       "3      2.777800e-09  3051.29  -6.71951e-09          10       10   \n",
       "4      2.777800e-09  3101.34  -5.84684e-09          10       10   \n",
       "\n",
       "     date and time  target voltage      mean   variance  deviation    median  \\\n",
       "0  Mon_05 Dec 2022            3000  9.681536  29.664858   5.446546  9.056603   \n",
       "1  Mon_05 Dec 2022            3000  1.308936  11.688127   3.418790  1.257862   \n",
       "2  Mon_05 Dec 2022            3050  0.059411  11.729643   3.424857  0.000000   \n",
       "3  Mon_05 Dec 2022            3050  0.275150  11.389175   3.374785  0.251572   \n",
       "4  Mon_05 Dec 2022            3100  0.277867  10.940171   3.307593  0.251572   \n",
       "\n",
       "         rms spray mode.Sjaak  spray mode.Monica  \n",
       "0  11.108419     Intermittent  no streamer onset  \n",
       "1   3.660798         Dripping  no streamer onset  \n",
       "2   3.425372         Dripping  no streamer onset  \n",
       "3   3.385983         Dripping  no streamer onset  \n",
       "4   3.319244         Dripping  no streamer onset  "
      ]
     },
     "execution_count": 9,
     "metadata": {},
     "output_type": "execute_result"
    }
   ],
   "source": [
    "data_window = pd.read_feather('../classified_data/data_window1.feather')\n",
    "data_window.head()"
   ]
  },
  {
   "cell_type": "code",
   "execution_count": 10,
   "metadata": {},
   "outputs": [
    {
     "name": "stdout",
     "output_type": "stream",
     "text": [
      "                     name                                          data [nA]  \\\n",
      "145  setup/liquid/ethanol  [104.90565490722656, 111.1949691772461, 106.66...   \n",
      "14   setup/liquid/ethanol  [0.7547169923782349, 4.0251569747924805, -0.75...   \n",
      "148  setup/liquid/ethanol  [30.943395614624023, 38.49056625366211, 36.981...   \n",
      "105  setup/liquid/ethanol  [77.23270416259766, 69.68553161621094, 78.9937...   \n",
      "193  setup/liquid/ethanol  [144.15093994140625, 138.1132049560547, 145.66...   \n",
      "..                    ...                                                ...   \n",
      "108  setup/liquid/ethanol  [79.49685668945312, 82.01258087158203, 76.9811...   \n",
      "109  setup/liquid/ethanol  [80.25157165527344, 82.76729583740234, 76.4779...   \n",
      "110  setup/liquid/ethanol  [80.0, 86.03773498535156, 84.52830505371094, 7...   \n",
      "111  setup/liquid/ethanol  [74.96855163574219, 80.0, 82.26414489746094, 7...   \n",
      "132  setup/liquid/ethanol  [73.20755004882812, 77.23270416259766, 76.2264...   \n",
      "\n",
      "     flow rate [m3/s]  voltage    current PS temperature humidity  \\\n",
      "145      2.777800e-09  7001.59   7.57548e-08          10       10   \n",
      "14       2.777800e-09  3351.46  -8.90117e-09          10       10   \n",
      "148      2.777800e-09  7051.32   3.90119e-08          10       10   \n",
      "105      2.777800e-09  5901.53   5.80379e-08          10       10   \n",
      "193      2.777800e-09  8301.24   1.17123e-07          10       10   \n",
      "..                ...      ...           ...         ...      ...   \n",
      "108      2.777800e-09  5951.54   5.34123e-08          10       10   \n",
      "109      2.777800e-09  6001.57   5.17541e-08          10       10   \n",
      "110      2.777800e-09  6001.57   5.17541e-08          10       10   \n",
      "111      2.777800e-09  6051.32   5.41105e-08          10       10   \n",
      "132      2.777800e-09  6651.43   4.86122e-08          10       10   \n",
      "\n",
      "       date and time  target voltage        mean     variance  deviation  \\\n",
      "145  Mon_05 Dec 2022            7000   73.113472   587.073181  24.229593   \n",
      "14   Mon_05 Dec 2022            3350   -0.036714    11.161729   3.340917   \n",
      "148  Mon_05 Dec 2022            7050   68.640610  1119.966431  33.465900   \n",
      "105  Mon_05 Dec 2022            5900   79.214523   883.018005  29.715618   \n",
      "193  Mon_05 Dec 2022            8300  139.730804  1778.030762  42.166702   \n",
      "..               ...             ...         ...          ...        ...   \n",
      "108  Mon_05 Dec 2022            5950   77.992783    12.411920   3.523056   \n",
      "109  Mon_05 Dec 2022            6000   78.677483    11.858411   3.443604   \n",
      "110  Mon_05 Dec 2022            6000   79.203194    13.068437   3.615029   \n",
      "111  Mon_05 Dec 2022            6050   79.048294    12.452114   3.528755   \n",
      "132  Mon_05 Dec 2022            6650   89.394150    69.183197   8.317644   \n",
      "\n",
      "         median         rms spray mode.Sjaak  spray mode.Monica  \n",
      "145   76.729561   77.023720        Undefined  no streamer onset  \n",
      "14     0.000000    3.341119        Undefined  no streamer onset  \n",
      "148   64.402512   76.364258        Undefined  no streamer onset  \n",
      "105   77.735847   84.604721        Undefined  no streamer onset  \n",
      "193  136.855347  145.954575        Undefined  no streamer onset  \n",
      "..          ...         ...              ...                ...  \n",
      "108   77.987427   78.072319         Cone Jet  no streamer onset  \n",
      "109   78.742142   78.752808         Cone Jet  no streamer onset  \n",
      "110   79.245285   79.285645         Cone Jet  no streamer onset  \n",
      "111   78.993706   79.127014         Cone Jet  no streamer onset  \n",
      "132   91.320755   89.780266         Cone Jet  no streamer onset  \n",
      "\n",
      "[290 rows x 16 columns]\n"
     ]
    }
   ],
   "source": [
    "data_window.sort_values('spray mode.Sjaak',inplace=True, ascending=False)\n",
    "\n",
    "print(data_window)"
   ]
  },
  {
   "cell_type": "code",
   "execution_count": 11,
   "metadata": {},
   "outputs": [
    {
     "data": {
      "text/plain": [
       "Index(['flow rate [m3/s]', 'voltage', 'mean', 'variance', 'deviation',\n",
       "       'median', 'rms', 'spray mode.Sjaak'],\n",
       "      dtype='object')"
      ]
     },
     "execution_count": 11,
     "metadata": {},
     "output_type": "execute_result"
    }
   ],
   "source": [
    "\n",
    "data_window = data_window.drop(['name', 'data [nA]','current PS', 'temperature', 'humidity', 'date and time', 'target voltage', 'spray mode.Monica'], axis=1)\n",
    "\n",
    "data_window.columns\n"
   ]
  },
  {
   "cell_type": "code",
   "execution_count": 12,
   "metadata": {},
   "outputs": [
    {
     "data": {
      "text/plain": [
       "Index(['flow_rate', 'voltage', 'mean', 'variance', 'deviation', 'median',\n",
       "       'rms', 'class'],\n",
       "      dtype='object')"
      ]
     },
     "execution_count": 12,
     "metadata": {},
     "output_type": "execute_result"
    }
   ],
   "source": [
    "data_window.rename(columns = {'flow rate [m3/s]':'flow_rate', 'spray mode.Sjaak':'class'}, inplace = True)\n",
    "\n",
    "data_window.columns\n"
   ]
  },
  {
   "cell_type": "code",
   "execution_count": 13,
   "metadata": {},
   "outputs": [
    {
     "data": {
      "text/html": [
       "<div>\n",
       "<style scoped>\n",
       "    .dataframe tbody tr th:only-of-type {\n",
       "        vertical-align: middle;\n",
       "    }\n",
       "\n",
       "    .dataframe tbody tr th {\n",
       "        vertical-align: top;\n",
       "    }\n",
       "\n",
       "    .dataframe thead th {\n",
       "        text-align: right;\n",
       "    }\n",
       "</style>\n",
       "<table border=\"1\" class=\"dataframe\">\n",
       "  <thead>\n",
       "    <tr style=\"text-align: right;\">\n",
       "      <th></th>\n",
       "      <th>flow_rate</th>\n",
       "      <th>voltage</th>\n",
       "      <th>mean</th>\n",
       "      <th>variance</th>\n",
       "      <th>deviation</th>\n",
       "      <th>median</th>\n",
       "      <th>rms</th>\n",
       "    </tr>\n",
       "    <tr>\n",
       "      <th>class</th>\n",
       "      <th></th>\n",
       "      <th></th>\n",
       "      <th></th>\n",
       "      <th></th>\n",
       "      <th></th>\n",
       "      <th></th>\n",
       "      <th></th>\n",
       "    </tr>\n",
       "  </thead>\n",
       "  <tbody>\n",
       "    <tr>\n",
       "      <th>Undefined</th>\n",
       "      <td>2.777800e-09</td>\n",
       "      <td>7001.59</td>\n",
       "      <td>73.113472</td>\n",
       "      <td>587.073181</td>\n",
       "      <td>24.229593</td>\n",
       "      <td>76.729561</td>\n",
       "      <td>77.023720</td>\n",
       "    </tr>\n",
       "    <tr>\n",
       "      <th>Undefined</th>\n",
       "      <td>2.777800e-09</td>\n",
       "      <td>3351.46</td>\n",
       "      <td>-0.036714</td>\n",
       "      <td>11.161729</td>\n",
       "      <td>3.340917</td>\n",
       "      <td>0.000000</td>\n",
       "      <td>3.341119</td>\n",
       "    </tr>\n",
       "    <tr>\n",
       "      <th>Undefined</th>\n",
       "      <td>2.777800e-09</td>\n",
       "      <td>7051.32</td>\n",
       "      <td>68.640610</td>\n",
       "      <td>1119.966431</td>\n",
       "      <td>33.465900</td>\n",
       "      <td>64.402512</td>\n",
       "      <td>76.364258</td>\n",
       "    </tr>\n",
       "    <tr>\n",
       "      <th>Undefined</th>\n",
       "      <td>2.777800e-09</td>\n",
       "      <td>5901.53</td>\n",
       "      <td>79.214523</td>\n",
       "      <td>883.018005</td>\n",
       "      <td>29.715618</td>\n",
       "      <td>77.735847</td>\n",
       "      <td>84.604721</td>\n",
       "    </tr>\n",
       "    <tr>\n",
       "      <th>Undefined</th>\n",
       "      <td>2.777800e-09</td>\n",
       "      <td>8301.24</td>\n",
       "      <td>139.730804</td>\n",
       "      <td>1778.030762</td>\n",
       "      <td>42.166702</td>\n",
       "      <td>136.855347</td>\n",
       "      <td>145.954575</td>\n",
       "    </tr>\n",
       "  </tbody>\n",
       "</table>\n",
       "</div>"
      ],
      "text/plain": [
       "              flow_rate  voltage        mean     variance  deviation  \\\n",
       "class                                                                  \n",
       "Undefined  2.777800e-09  7001.59   73.113472   587.073181  24.229593   \n",
       "Undefined  2.777800e-09  3351.46   -0.036714    11.161729   3.340917   \n",
       "Undefined  2.777800e-09  7051.32   68.640610  1119.966431  33.465900   \n",
       "Undefined  2.777800e-09  5901.53   79.214523   883.018005  29.715618   \n",
       "Undefined  2.777800e-09  8301.24  139.730804  1778.030762  42.166702   \n",
       "\n",
       "               median         rms  \n",
       "class                              \n",
       "Undefined   76.729561   77.023720  \n",
       "Undefined    0.000000    3.341119  \n",
       "Undefined   64.402512   76.364258  \n",
       "Undefined   77.735847   84.604721  \n",
       "Undefined  136.855347  145.954575  "
      ]
     },
     "execution_count": 13,
     "metadata": {},
     "output_type": "execute_result"
    }
   ],
   "source": [
    "data_window = data_window.set_index('class')\n",
    "data_window.head()"
   ]
  },
  {
   "cell_type": "code",
   "execution_count": 14,
   "metadata": {},
   "outputs": [
    {
     "data": {
      "text/html": [
       "<div>\n",
       "<style scoped>\n",
       "    .dataframe tbody tr th:only-of-type {\n",
       "        vertical-align: middle;\n",
       "    }\n",
       "\n",
       "    .dataframe tbody tr th {\n",
       "        vertical-align: top;\n",
       "    }\n",
       "\n",
       "    .dataframe thead th {\n",
       "        text-align: right;\n",
       "    }\n",
       "</style>\n",
       "<table border=\"1\" class=\"dataframe\">\n",
       "  <thead>\n",
       "    <tr style=\"text-align: right;\">\n",
       "      <th></th>\n",
       "      <th>flow_rate</th>\n",
       "      <th>voltage</th>\n",
       "      <th>mean</th>\n",
       "      <th>variance</th>\n",
       "      <th>deviation</th>\n",
       "      <th>median</th>\n",
       "      <th>rms</th>\n",
       "    </tr>\n",
       "    <tr>\n",
       "      <th>class</th>\n",
       "      <th></th>\n",
       "      <th></th>\n",
       "      <th></th>\n",
       "      <th></th>\n",
       "      <th></th>\n",
       "      <th></th>\n",
       "      <th></th>\n",
       "    </tr>\n",
       "  </thead>\n",
       "  <tbody>\n",
       "    <tr>\n",
       "      <th>Cone Jet</th>\n",
       "      <td>2.777800e-09</td>\n",
       "      <td>5951.54</td>\n",
       "      <td>77.992783</td>\n",
       "      <td>12.411920</td>\n",
       "      <td>3.523056</td>\n",
       "      <td>77.987427</td>\n",
       "      <td>78.072319</td>\n",
       "    </tr>\n",
       "    <tr>\n",
       "      <th>Cone Jet</th>\n",
       "      <td>2.777800e-09</td>\n",
       "      <td>6001.57</td>\n",
       "      <td>78.677483</td>\n",
       "      <td>11.858411</td>\n",
       "      <td>3.443604</td>\n",
       "      <td>78.742142</td>\n",
       "      <td>78.752808</td>\n",
       "    </tr>\n",
       "    <tr>\n",
       "      <th>Cone Jet</th>\n",
       "      <td>2.777800e-09</td>\n",
       "      <td>6001.57</td>\n",
       "      <td>79.203194</td>\n",
       "      <td>13.068437</td>\n",
       "      <td>3.615029</td>\n",
       "      <td>79.245285</td>\n",
       "      <td>79.285645</td>\n",
       "    </tr>\n",
       "    <tr>\n",
       "      <th>Cone Jet</th>\n",
       "      <td>2.777800e-09</td>\n",
       "      <td>6051.32</td>\n",
       "      <td>79.048294</td>\n",
       "      <td>12.452114</td>\n",
       "      <td>3.528755</td>\n",
       "      <td>78.993706</td>\n",
       "      <td>79.127014</td>\n",
       "    </tr>\n",
       "    <tr>\n",
       "      <th>Cone Jet</th>\n",
       "      <td>2.777800e-09</td>\n",
       "      <td>6651.43</td>\n",
       "      <td>89.394150</td>\n",
       "      <td>69.183197</td>\n",
       "      <td>8.317644</td>\n",
       "      <td>91.320755</td>\n",
       "      <td>89.780266</td>\n",
       "    </tr>\n",
       "  </tbody>\n",
       "</table>\n",
       "</div>"
      ],
      "text/plain": [
       "             flow_rate  voltage       mean   variance  deviation     median  \\\n",
       "class                                                                         \n",
       "Cone Jet  2.777800e-09  5951.54  77.992783  12.411920   3.523056  77.987427   \n",
       "Cone Jet  2.777800e-09  6001.57  78.677483  11.858411   3.443604  78.742142   \n",
       "Cone Jet  2.777800e-09  6001.57  79.203194  13.068437   3.615029  79.245285   \n",
       "Cone Jet  2.777800e-09  6051.32  79.048294  12.452114   3.528755  78.993706   \n",
       "Cone Jet  2.777800e-09  6651.43  89.394150  69.183197   8.317644  91.320755   \n",
       "\n",
       "                rms  \n",
       "class                \n",
       "Cone Jet  78.072319  \n",
       "Cone Jet  78.752808  \n",
       "Cone Jet  79.285645  \n",
       "Cone Jet  79.127014  \n",
       "Cone Jet  89.780266  "
      ]
     },
     "execution_count": 14,
     "metadata": {},
     "output_type": "execute_result"
    }
   ],
   "source": [
    "data_window['voltage'] = data_window['voltage'].astype(float)\n",
    "data_window.tail()"
   ]
  },
  {
   "cell_type": "code",
   "execution_count": 31,
   "metadata": {},
   "outputs": [],
   "source": [
    "ConeJet_test = data_window.loc['Cone Jet']\n",
    "ConeJet_test = ConeJet_test.drop(['flow_rate', 'voltage', 'variance', 'deviation'], axis=1)\n",
    "\n",
    "MultiJet_test = data_window.loc['Multi Jet']\n",
    "MultiJet_test = MultiJet_test.drop(['flow_rate', 'voltage', 'variance', 'deviation'], axis=1)\n",
    "\n",
    "Intermittent_test = data_window.loc['Intermittent']\n",
    "Intermittent_test = Intermittent_test.drop(['flow_rate', 'voltage', 'variance', 'deviation'], axis=1)\n",
    "\n",
    "Undefined_test = data_window.loc['Undefined']\n",
    "Undefined_test = Undefined_test.drop(['flow_rate', 'voltage', 'variance', 'deviation'], axis=1)\n",
    "\n",
    "Dripping_test = data_window.loc['Dripping']\n",
    "Dripping_test = Dripping_test.drop(['flow_rate', 'voltage', 'variance', 'deviation'], axis=1)\n",
    "\n",
    "Corona_test = data_window.loc['Corona']\n",
    "Corona_test = Corona_test.drop(['flow_rate', 'voltage', 'variance', 'deviation'], axis=1)"
   ]
  },
  {
   "cell_type": "code",
   "execution_count": 63,
   "metadata": {},
   "outputs": [],
   "source": [
    "df = data_window.groupby(by='class').mean()\n",
    "df = df.drop(['flow_rate', 'voltage', 'variance', 'deviation'], axis=1)"
   ]
  },
  {
   "cell_type": "code",
   "execution_count": 71,
   "metadata": {},
   "outputs": [
    {
     "data": {
      "image/png": "[encoded data removed]",
      "text/plain": [
       "<Figure size 432x288 with 4 Axes>"
      ]
     },
     "metadata": {
      "needs_background": "light"
     },
     "output_type": "display_data"
    }
   ],
   "source": [
    "import seaborn as sns\n",
    "\n",
    "\n",
    "fig, axs = plt.subplots(2, 1)\n",
    "axs[0] = sns.heatmap(df[:1].values * 1/df[:1].values.transpose())\n",
    "\n",
    "axs[1] = sns.heatmap(df[1:2].values * 1/df[1:2].values.transpose())"
   ]
  },
  {
   "cell_type": "code",
   "execution_count": 22,
   "metadata": {},
   "outputs": [
    {
     "data": {
      "text/plain": [
       "<AxesSubplot:xlabel='class'>"
      ]
     },
     "execution_count": 22,
     "metadata": {},
     "output_type": "execute_result"
    },
    {
     "data": {
      "image/png": "[encoded data removed]",
      "text/plain": [
       "<Figure size 432x288 with 2 Axes>"
      ]
     },
     "metadata": {
      "needs_background": "light"
     },
     "output_type": "display_data"
    }
   ],
   "source": [
    "sns.heatmap(MultiJet_test, vmin=0, vmax=150)\n"
   ]
  },
  {
   "cell_type": "code",
   "execution_count": 23,
   "metadata": {},
   "outputs": [
    {
     "data": {
      "text/plain": [
       "<AxesSubplot:xlabel='class'>"
      ]
     },
     "execution_count": 23,
     "metadata": {},
     "output_type": "execute_result"
    },
    {
     "data": {
      "image/png": "[encoded data removed]",
      "text/plain": [
       "<Figure size 432x288 with 2 Axes>"
      ]
     },
     "metadata": {
      "needs_background": "light"
     },
     "output_type": "display_data"
    }
   ],
   "source": [
    "sns.heatmap(Dripping_test,  vmin=0, vmax=150)"
   ]
  },
  {
   "cell_type": "code",
   "execution_count": 24,
   "metadata": {},
   "outputs": [
    {
     "data": {
      "text/plain": [
       "<AxesSubplot:xlabel='class'>"
      ]
     },
     "execution_count": 24,
     "metadata": {},
     "output_type": "execute_result"
    },
    {
     "data": {
      "image/png": "[encoded data removed]",
      "text/plain": [
       "<Figure size 432x288 with 2 Axes>"
      ]
     },
     "metadata": {
      "needs_background": "light"
     },
     "output_type": "display_data"
    }
   ],
   "source": [
    "sns.heatmap(Intermittent_test,  vmin=0, vmax=150)"
   ]
  }
 ],
 "metadata": {
  "kernelspec": {
   "display_name": "Python 3",
   "language": "python",
   "name": "python3"
  },
  "language_info": {
   "codemirror_mode": {
    "name": "ipython",
    "version": 3
   },
   "file_extension": ".py",
   "mimetype": "text/x-python",
   "name": "python",
   "nbconvert_exporter": "python",
   "pygments_lexer": "ipython3",
   "version": "3.9.6 (default, Oct 18 2022, 12:41:40) \n[Clang 14.0.0 (clang-1400.0.29.202)]"
  },
  "orig_nbformat": 4,
  "vscode": {
   "interpreter": {
    "hash": "31f2aee4e71d21fbe5cf8b01ff0e069b9275f58929596ceb00d14d90e3e16cd6"
   }
  }
 },
 "nbformat": 4,
 "nbformat_minor": 2
}
