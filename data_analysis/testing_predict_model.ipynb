{
 "cells": [
  {
   "cell_type": "code",
   "execution_count": 5,
   "metadata": {},
   "outputs": [
    {
     "name": "stderr",
     "output_type": "stream",
     "text": [
      "/Users/jota/Library/Python/3.9/lib/python/site-packages/sklearn/base.py:288: UserWarning: Trying to unpickle estimator DecisionTreeClassifier from version 1.2.1 when using version 1.2.0. This might lead to breaking code or invalid results. Use at your own risk. For more info please refer to:\n",
      "https://scikit-learn.org/stable/model_persistence.html#security-maintainability-limitations\n",
      "  warnings.warn(\n"
     ]
    }
   ],
   "source": [
    "import pickle\n",
    "\n",
    "pickled_model = pickle.load(open('CART.pkl', 'rb'))"
   ]
  },
  {
   "cell_type": "code",
   "execution_count": 13,
   "metadata": {},
   "outputs": [],
   "source": [
    "import pandas as pd\n",
    "\n",
    "df = pd.read_feather(\"Data/map_23-03-14_2.feather\")"
   ]
  },
  {
   "cell_type": "code",
   "execution_count": 14,
   "metadata": {},
   "outputs": [
    {
     "data": {
      "text/html": [
       "<div>\n",
       "<style scoped>\n",
       "    .dataframe tbody tr th:only-of-type {\n",
       "        vertical-align: middle;\n",
       "    }\n",
       "\n",
       "    .dataframe tbody tr th {\n",
       "        vertical-align: top;\n",
       "    }\n",
       "\n",
       "    .dataframe thead th {\n",
       "        text-align: right;\n",
       "    }\n",
       "</style>\n",
       "<table border=\"1\" class=\"dataframe\">\n",
       "  <thead>\n",
       "    <tr style=\"text-align: right;\">\n",
       "      <th></th>\n",
       "      <th>flow_rate</th>\n",
       "      <th>voltage</th>\n",
       "      <th>temperature</th>\n",
       "      <th>humidity</th>\n",
       "      <th>mean</th>\n",
       "      <th>deviation</th>\n",
       "      <th>spray_mode</th>\n",
       "    </tr>\n",
       "  </thead>\n",
       "  <tbody>\n",
       "    <tr>\n",
       "      <th>0</th>\n",
       "      <td>0.15</td>\n",
       "      <td>4001.52</td>\n",
       "      <td>0.0</td>\n",
       "      <td>0</td>\n",
       "      <td>0.829836</td>\n",
       "      <td>5.322187</td>\n",
       "      <td>Dripping</td>\n",
       "    </tr>\n",
       "    <tr>\n",
       "      <th>1</th>\n",
       "      <td>0.15</td>\n",
       "      <td>4001.52</td>\n",
       "      <td>0.0</td>\n",
       "      <td>0</td>\n",
       "      <td>0.752443</td>\n",
       "      <td>5.325644</td>\n",
       "      <td>Dripping</td>\n",
       "    </tr>\n",
       "    <tr>\n",
       "      <th>2</th>\n",
       "      <td>0.15</td>\n",
       "      <td>4001.52</td>\n",
       "      <td>0.0</td>\n",
       "      <td>29</td>\n",
       "      <td>5.328266</td>\n",
       "      <td>10.148021</td>\n",
       "      <td>Intermittent</td>\n",
       "    </tr>\n",
       "    <tr>\n",
       "      <th>3</th>\n",
       "      <td>0.15</td>\n",
       "      <td>4001.52</td>\n",
       "      <td>23.1</td>\n",
       "      <td>29</td>\n",
       "      <td>0.790878</td>\n",
       "      <td>5.285397</td>\n",
       "      <td>Dripping</td>\n",
       "    </tr>\n",
       "    <tr>\n",
       "      <th>4</th>\n",
       "      <td>0.15</td>\n",
       "      <td>4001.52</td>\n",
       "      <td>23.1</td>\n",
       "      <td>29</td>\n",
       "      <td>14.559426</td>\n",
       "      <td>22.468987</td>\n",
       "      <td>Intermittent</td>\n",
       "    </tr>\n",
       "  </tbody>\n",
       "</table>\n",
       "</div>"
      ],
      "text/plain": [
       "   flow_rate  voltage  temperature  humidity       mean  deviation  \\\n",
       "0       0.15  4001.52          0.0         0   0.829836   5.322187   \n",
       "1       0.15  4001.52          0.0         0   0.752443   5.325644   \n",
       "2       0.15  4001.52          0.0        29   5.328266  10.148021   \n",
       "3       0.15  4001.52         23.1        29   0.790878   5.285397   \n",
       "4       0.15  4001.52         23.1        29  14.559426  22.468987   \n",
       "\n",
       "     spray_mode  \n",
       "0      Dripping  \n",
       "1      Dripping  \n",
       "2  Intermittent  \n",
       "3      Dripping  \n",
       "4  Intermittent  "
      ]
     },
     "execution_count": 14,
     "metadata": {},
     "output_type": "execute_result"
    }
   ],
   "source": [
    "# df = df.rename(columns={'flow_rate': 'flow_rate [uL/min]', 'voltage': 'voltage [V]', 'temperature': 'temperature [°C]', 'humidity': 'humidity [R%]', 'mean': 'current_mean [nA]', 'deviation': 'STDdev [nA]'})\n",
    "df = df.drop(columns=['index', 'name', 'current', 'current_PS','target_voltage', 'date_and_time', 'variance', 'median', 'rms'])\n",
    "df.head()"
   ]
  },
  {
   "cell_type": "code",
   "execution_count": 15,
   "metadata": {},
   "outputs": [],
   "source": [
    "X = df.drop(columns=['spray_mode'])\n",
    "y_true = df['spray_mode']"
   ]
  },
  {
   "cell_type": "code",
   "execution_count": 16,
   "metadata": {},
   "outputs": [
    {
     "name": "stdout",
     "output_type": "stream",
     "text": [
      "['Undefined' 'Undefined' 'Undefined' ... 'Undefined' 'Undefined'\n",
      " 'Undefined']\n"
     ]
    },
    {
     "name": "stderr",
     "output_type": "stream",
     "text": [
      "/Users/jota/Library/Python/3.9/lib/python/site-packages/sklearn/base.py:402: UserWarning: X has feature names, but DecisionTreeClassifier was fitted without feature names\n",
      "  warnings.warn(\n"
     ]
    }
   ],
   "source": [
    "y_pred = pickled_model.predict(X)\n",
    "print(y_pred)"
   ]
  },
  {
   "cell_type": "code",
   "execution_count": 17,
   "metadata": {},
   "outputs": [
    {
     "data": {
      "text/plain": [
       "0.23730924945499846"
      ]
     },
     "execution_count": 17,
     "metadata": {},
     "output_type": "execute_result"
    }
   ],
   "source": [
    "from sklearn.metrics import accuracy_score\n",
    "\n",
    "accuracy_score(y_true, y_pred)"
   ]
  }
 ],
 "metadata": {
  "kernelspec": {
   "display_name": "Python 3",
   "language": "python",
   "name": "python3"
  },
  "language_info": {
   "codemirror_mode": {
    "name": "ipython",
    "version": 3
   },
   "file_extension": ".py",
   "mimetype": "text/x-python",
   "name": "python",
   "nbconvert_exporter": "python",
   "pygments_lexer": "ipython3",
   "version": "3.9.6"
  },
  "orig_nbformat": 4,
  "vscode": {
   "interpreter": {
    "hash": "31f2aee4e71d21fbe5cf8b01ff0e069b9275f58929596ceb00d14d90e3e16cd6"
   }
  }
 },
 "nbformat": 4,
 "nbformat_minor": 2
}
