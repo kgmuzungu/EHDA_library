{
 "cells": [
  {
   "cell_type": "code",
   "execution_count": 1,
   "metadata": {},
   "outputs": [
    {
     "name": "stderr",
     "output_type": "stream",
     "text": [
      "/Users/jota/Library/Python/3.9/lib/python/site-packages/sklearn/base.py:288: UserWarning: Trying to unpickle estimator DecisionTreeClassifier from version 1.2.1 when using version 1.2.0. This might lead to breaking code or invalid results. Use at your own risk. For more info please refer to:\n",
      "https://scikit-learn.org/stable/model_persistence.html#security-maintainability-limitations\n",
      "  warnings.warn(\n"
     ]
    }
   ],
   "source": [
    "import pickle\n",
    "\n",
    "pickled_model = pickle.load(open('CART.pkl', 'rb'))"
   ]
  },
  {
   "cell_type": "code",
   "execution_count": 2,
   "metadata": {},
   "outputs": [],
   "source": [
    "import pandas as pd\n",
    "\n",
    "df = pd.read_feather(\"Data/map_23-03-13.feather\")"
   ]
  },
  {
   "cell_type": "code",
   "execution_count": 3,
   "metadata": {},
   "outputs": [
    {
     "data": {
      "text/html": [
       "<div>\n",
       "<style scoped>\n",
       "    .dataframe tbody tr th:only-of-type {\n",
       "        vertical-align: middle;\n",
       "    }\n",
       "\n",
       "    .dataframe tbody tr th {\n",
       "        vertical-align: top;\n",
       "    }\n",
       "\n",
       "    .dataframe thead th {\n",
       "        text-align: right;\n",
       "    }\n",
       "</style>\n",
       "<table border=\"1\" class=\"dataframe\">\n",
       "  <thead>\n",
       "    <tr style=\"text-align: right;\">\n",
       "      <th></th>\n",
       "      <th>flow_rate</th>\n",
       "      <th>voltage</th>\n",
       "      <th>temperature</th>\n",
       "      <th>humidity</th>\n",
       "      <th>mean</th>\n",
       "      <th>deviation</th>\n",
       "      <th>spray_mode</th>\n",
       "    </tr>\n",
       "  </thead>\n",
       "  <tbody>\n",
       "    <tr>\n",
       "      <th>0</th>\n",
       "      <td>0.085</td>\n",
       "      <td>4001.58</td>\n",
       "      <td>0.0</td>\n",
       "      <td>35</td>\n",
       "      <td>-638.001709</td>\n",
       "      <td>388.605042</td>\n",
       "      <td>Undefined</td>\n",
       "    </tr>\n",
       "    <tr>\n",
       "      <th>1</th>\n",
       "      <td>0.085</td>\n",
       "      <td>4001.58</td>\n",
       "      <td>22.6</td>\n",
       "      <td>35</td>\n",
       "      <td>-29.036011</td>\n",
       "      <td>15.878552</td>\n",
       "      <td>Undefined</td>\n",
       "    </tr>\n",
       "    <tr>\n",
       "      <th>2</th>\n",
       "      <td>0.085</td>\n",
       "      <td>4001.58</td>\n",
       "      <td>22.6</td>\n",
       "      <td>35</td>\n",
       "      <td>-2.750863</td>\n",
       "      <td>5.178570</td>\n",
       "      <td>Undefined</td>\n",
       "    </tr>\n",
       "    <tr>\n",
       "      <th>3</th>\n",
       "      <td>0.085</td>\n",
       "      <td>4001.58</td>\n",
       "      <td>22.6</td>\n",
       "      <td>35</td>\n",
       "      <td>-0.980699</td>\n",
       "      <td>5.117371</td>\n",
       "      <td>Undefined</td>\n",
       "    </tr>\n",
       "    <tr>\n",
       "      <th>4</th>\n",
       "      <td>0.085</td>\n",
       "      <td>4001.58</td>\n",
       "      <td>22.6</td>\n",
       "      <td>35</td>\n",
       "      <td>-0.426370</td>\n",
       "      <td>5.156744</td>\n",
       "      <td>Undefined</td>\n",
       "    </tr>\n",
       "  </tbody>\n",
       "</table>\n",
       "</div>"
      ],
      "text/plain": [
       "   flow_rate  voltage  temperature  humidity        mean   deviation  \\\n",
       "0      0.085  4001.58          0.0        35 -638.001709  388.605042   \n",
       "1      0.085  4001.58         22.6        35  -29.036011   15.878552   \n",
       "2      0.085  4001.58         22.6        35   -2.750863    5.178570   \n",
       "3      0.085  4001.58         22.6        35   -0.980699    5.117371   \n",
       "4      0.085  4001.58         22.6        35   -0.426370    5.156744   \n",
       "\n",
       "  spray_mode  \n",
       "0  Undefined  \n",
       "1  Undefined  \n",
       "2  Undefined  \n",
       "3  Undefined  \n",
       "4  Undefined  "
      ]
     },
     "execution_count": 3,
     "metadata": {},
     "output_type": "execute_result"
    }
   ],
   "source": [
    "# df = df.rename(columns={'flow_rate': 'flow_rate [uL/min]', 'voltage': 'voltage [V]', 'temperature': 'temperature [°C]', 'humidity': 'humidity [R%]', 'mean': 'current_mean [nA]', 'deviation': 'STDdev [nA]'})\n",
    "df = df.drop(columns=['index', 'name', 'current', 'current_PS','target_voltage', 'date_and_time', 'variance', 'median', 'rms'])\n",
    "df.head()"
   ]
  },
  {
   "cell_type": "code",
   "execution_count": 4,
   "metadata": {},
   "outputs": [],
   "source": [
    "X = df.drop(columns=['spray_mode'])\n",
    "y_true = df['spray_mode']"
   ]
  },
  {
   "cell_type": "code",
   "execution_count": 5,
   "metadata": {},
   "outputs": [],
   "source": [
    "from sklearn.preprocessing import StandardScaler\n",
    "\n",
    "scaler = StandardScaler()\n",
    "\n",
    "X_scaler = scaler.fit(X)\n",
    "\n",
    "X = scaler.transform(X)"
   ]
  },
  {
   "cell_type": "code",
   "execution_count": 6,
   "metadata": {},
   "outputs": [
    {
     "name": "stdout",
     "output_type": "stream",
     "text": [
      "[[ -1.32244821  -1.70108028 -36.13446171   1.49645741 -26.30699045\n",
      "   45.25874866]\n",
      " [ -1.32244821  -1.70108028  -1.41125832   1.49645741  -2.20084862\n",
      "    0.82867706]\n",
      " [ -1.32244821  -1.70108028  -1.41125832   1.49645741  -1.16034091\n",
      "   -0.44679165]\n",
      " ...\n",
      " [  2.48312393  -1.24434323   1.20066406  -1.56550601  -0.24321176\n",
      "    2.11946908]\n",
      " [  2.48312393  -1.24434323   1.20066406  -1.56550601  -0.9808324\n",
      "   -0.4537189 ]\n",
      " [  2.48312393  -1.24434323   1.20066406  -1.56550601  -0.21969714\n",
      "    1.95578725]]\n"
     ]
    }
   ],
   "source": [
    "print(X)"
   ]
  },
  {
   "cell_type": "code",
   "execution_count": 8,
   "metadata": {},
   "outputs": [
    {
     "name": "stdout",
     "output_type": "stream",
     "text": [
      "['Undefined' 'Undefined' 'Undefined' ... 'Intermittent' 'Undefined'\n",
      " 'Intermittent']\n"
     ]
    }
   ],
   "source": [
    "y_pred = pickled_model.predict(X)\n",
    "print(y_pred)"
   ]
  },
  {
   "cell_type": "code",
   "execution_count": 9,
   "metadata": {},
   "outputs": [
    {
     "data": {
      "text/plain": [
       "0.5452089337175793"
      ]
     },
     "execution_count": 9,
     "metadata": {},
     "output_type": "execute_result"
    }
   ],
   "source": [
    "from sklearn.metrics import accuracy_score\n",
    "\n",
    "accuracy_score(y_true, y_pred)"
   ]
  },
  {
   "attachments": {},
   "cell_type": "markdown",
   "metadata": {},
   "source": [
    "# ----------------------------"
   ]
  }
 ],
 "metadata": {
  "kernelspec": {
   "display_name": "Python 3",
   "language": "python",
   "name": "python3"
  },
  "language_info": {
   "codemirror_mode": {
    "name": "ipython",
    "version": 3
   },
   "file_extension": ".py",
   "mimetype": "text/x-python",
   "name": "python",
   "nbconvert_exporter": "python",
   "pygments_lexer": "ipython3",
   "version": "3.9.6"
  },
  "orig_nbformat": 4,
  "vscode": {
   "interpreter": {
    "hash": "31f2aee4e71d21fbe5cf8b01ff0e069b9275f58929596ceb00d14d90e3e16cd6"
   }
  }
 },
 "nbformat": 4,
 "nbformat_minor": 2
}
