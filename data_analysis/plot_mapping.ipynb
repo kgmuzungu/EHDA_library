{
 "cells": [
  {
   "cell_type": "markdown",
   "metadata": {},
   "source": [
    "\n",
    "#\tCorrecting Data Classification and creating a good database\n",
    "#\tAUTHOR: 乔昂 - jueta\n",
    "#\tDATE: 13/12/2022\n"
   ]
  },
  {
   "cell_type": "code",
   "execution_count": null,
   "metadata": {},
   "outputs": [],
   "source": [
    "import pandas as pd"
   ]
  },
  {
   "cell_type": "code",
   "execution_count": null,
   "metadata": {},
   "outputs": [],
   "source": [
    "df = pd.read_feather(\"Data/map_23-03-02.feather\")"
   ]
  },
  {
   "cell_type": "code",
   "execution_count": null,
   "metadata": {},
   "outputs": [],
   "source": [
    "df.head()"
   ]
  },
  {
   "cell_type": "code",
   "execution_count": null,
   "metadata": {},
   "outputs": [],
   "source": [
    "'''\n",
    "\tAnalysis of mapping V x FR experiments\n",
    "\tAUTHOR: 乔昂 - jueta\n",
    "\tDATE: 19/01/2023\n",
    "'''\n",
    "\n",
    "import pandas as pd\n",
    "from pandas.io.json import json_normalize\n",
    "import json\n",
    "import matplotlib.pyplot as plt\n",
    "from sklearn.utils import column_or_1d\n",
    "import numpy as np\n",
    "from scipy.signal import butter, lfilter\n",
    "\n"
   ]
  },
  {
   "cell_type": "code",
   "execution_count": null,
   "metadata": {},
   "outputs": [],
   "source": [
    "\n",
    "\n",
    "colormap = []\n",
    "for electro_class in df['spray_mode']:\n",
    "    if electro_class == 'Intermittent':\n",
    "        colormap.append('blue')\n",
    "    elif electro_class == 'Cone Jet':\n",
    "        colormap.append('red')\n",
    "    elif electro_class == 'Dripping':\n",
    "        colormap.append('green')\n",
    "    elif electro_class == 'Multi Jet':\n",
    "        colormap.append('purple')\n",
    "    elif electro_class == 'Corona':\n",
    "        colormap.append('cyan')\n",
    "    elif electro_class == 'Undefined':\n",
    "        colormap.append('black')\n",
    "    else:\n",
    "        colormap.append('black')\n",
    "\n",
    "\n",
    "df.insert(1, 'colormap', colormap)\n"
   ]
  },
  {
   "cell_type": "code",
   "execution_count": null,
   "metadata": {},
   "outputs": [],
   "source": [
    "\n",
    "df.info()\n",
    "df.head()\n",
    "\n"
   ]
  },
  {
   "attachments": {},
   "cell_type": "markdown",
   "metadata": {},
   "source": [
    "## Using Matplotlib"
   ]
  },
  {
   "cell_type": "code",
   "execution_count": null,
   "metadata": {},
   "outputs": [],
   "source": [
    "\n",
    "\n",
    "# df['flow rate [m3/s]'] = df['flow rate [m3/s]'].astype(float)\n",
    "plt.scatter(df['flow_rate'], df['target_voltage'], color=df['colormap'])\n",
    "plt.ylabel('Voltage [V]')\n",
    "plt.ylim(top=9500)\n",
    "plt.xlabel('Flow Rate [uL/min]')\n",
    "\n",
    "from matplotlib.lines import Line2D\n",
    "legend_elements = [Line2D([0], [0], marker='o', color='w', label='Intermittent', markerfacecolor='blue', markersize=7),\n",
    "                   Line2D([0], [0], marker='o', color='w', label='Dripping', markerfacecolor='green', markersize=7),\n",
    "                   Line2D([0], [0], marker='o', color='w', label='Cone Jet', markerfacecolor='red', markersize=7),\n",
    "                   Line2D([0], [0], marker='o', color='w', label='Multi Jet', markerfacecolor='purple', markersize=7),\n",
    "                   Line2D([0], [0], marker='o', color='w', label='Undefined', markerfacecolor='black', markersize=7)]\n",
    "\n",
    "plt.title(\"Automatic mapping jet modes - Pure Ethanol\")\n",
    "plt.legend(handles=legend_elements, bbox_to_anchor=(1.04, 1))\n",
    "\n",
    "plt.show()\n"
   ]
  },
  {
   "attachments": {},
   "cell_type": "markdown",
   "metadata": {},
   "source": [
    "## Using Plotly express"
   ]
  },
  {
   "cell_type": "code",
   "execution_count": null,
   "metadata": {},
   "outputs": [],
   "source": [
    "import pandas as pd\n",
    "import plotly.express as px\n",
    "\n",
    "px.scatter(df, 'flow_rate', 'target_voltage', color=\"spray_mode\")"
   ]
  },
  {
   "attachments": {},
   "cell_type": "markdown",
   "metadata": {},
   "source": [
    "# ----------------------------------------------\n",
    "\n",
    "## Mapping with undimentional Numbers"
   ]
  },
  {
   "cell_type": "code",
   "execution_count": null,
   "metadata": {},
   "outputs": [],
   "source": [
    "import pandas as pd\n",
    "df = pd.read_feather(\"Data/map_23-02-23.feather\")"
   ]
  },
  {
   "cell_type": "code",
   "execution_count": null,
   "metadata": {},
   "outputs": [],
   "source": [
    "electric_permitivity_of_vacum = 8.85E-12\n",
    "ethanol_density = 789\n",
    "eth_surface_tension = 0.02239\n",
    "ehda_reynolds =\t0.000003233936202\n",
    "eth_viscosity = 1231.8\n",
    "eth_conductivity = 0.0000554\n",
    "eth_dielectric_constant = 24.3\n",
    "nozzle_outer_radius = 0.00068\n",
    "Q_zero = 4.54E-12\n",
    "ulmin_to_m3s = 1.67E-11"
   ]
  },
  {
   "cell_type": "code",
   "execution_count": null,
   "metadata": {},
   "outputs": [],
   "source": [
    "df.head()"
   ]
  },
  {
   "cell_type": "code",
   "execution_count": null,
   "metadata": {},
   "outputs": [],
   "source": [
    "# Undimentional X axis\n",
    "df['Undimensional_flowrate'] = df['flow_rate']*ulmin_to_m3s*ehda_reynolds/Q_zero*10000000"
   ]
  },
  {
   "cell_type": "code",
   "execution_count": null,
   "metadata": {},
   "outputs": [],
   "source": [
    "# Undimentional Y axis\n",
    "df['Undimensional_voltage'] = (df['voltage'].pow(2) * electric_permitivity_of_vacum) / (2*eth_surface_tension*nozzle_outer_radius)"
   ]
  },
  {
   "cell_type": "code",
   "execution_count": null,
   "metadata": {},
   "outputs": [],
   "source": [
    "df.head()"
   ]
  },
  {
   "cell_type": "code",
   "execution_count": null,
   "metadata": {},
   "outputs": [],
   "source": [
    "import matplotlib.pyplot as plt\n",
    "import matplotlib\n",
    "\n",
    "fig, ax = plt.subplots(figsize = (9, 6))\n",
    "ax.scatter(df['Undimensional_flowrate'], df['Undimensional_voltage'], color=df['colormap'])\n",
    "\n",
    "ax.set_xscale(\"log\")\n",
    "ax.set_yticks([6, 10,15 , 20, 25])\n",
    "ax.get_yaxis().set_major_formatter(matplotlib.ticker.ScalarFormatter())\n",
    "ax.set_xticks([10, 20, 50,  200])\n",
    "ax.get_xaxis().set_major_formatter(matplotlib.ticker.ScalarFormatter())\n",
    "ax.set_ylabel('γ1')\n",
    "ax.set_xlabel('Q δμ / Q0')\n",
    "ax.set_title('Mapping Experiment with Undimentional Values')\n",
    "\n",
    "\n",
    "from matplotlib.lines import Line2D\n",
    "legend_elements = [Line2D([0], [0], marker='o', color='w', label='Intermittent', markerfacecolor='blue', markersize=7),\n",
    "                   Line2D([0], [0], marker='o', color='w', label='Dripping', markerfacecolor='green', markersize=7),\n",
    "                   Line2D([0], [0], marker='o', color='w', label='Cone Jet', markerfacecolor='red', markersize=7),\n",
    "                   Line2D([0], [0], marker='o', color='w', label='Multi Jet', markerfacecolor='purple', markersize=7),\n",
    "                   Line2D([0], [0], marker='o', color='w', label='Undefined', markerfacecolor='black', markersize=7)]\n",
    "\n",
    "plt.title(\"Automatic mapping jet modes - Pure Ethanol\")\n",
    "plt.legend(handles=legend_elements, bbox_to_anchor=(1.04, 1))\n",
    "\n",
    "plt.show()"
   ]
  }
 ],
 "metadata": {
  "kernelspec": {
   "display_name": "Python 3",
   "language": "python",
   "name": "python3"
  },
  "language_info": {
   "codemirror_mode": {
    "name": "ipython",
    "version": 3
   },
   "file_extension": ".py",
   "mimetype": "text/x-python",
   "name": "python",
   "nbconvert_exporter": "python",
   "pygments_lexer": "ipython3",
   "version": "3.9.6 (default, Oct 18 2022, 12:41:40) \n[Clang 14.0.0 (clang-1400.0.29.202)]"
  },
  "orig_nbformat": 4,
  "vscode": {
   "interpreter": {
    "hash": "31f2aee4e71d21fbe5cf8b01ff0e069b9275f58929596ceb00d14d90e3e16cd6"
   }
  }
 },
 "nbformat": 4,
 "nbformat_minor": 2
}
