{
 "cells": [
  {
   "cell_type": "markdown",
   "metadata": {},
   "source": [
    "\n",
    "#\tTrying Stuff\n",
    "#\tAUTHOR: 乔昂 - jueta\n",
    "#\tDATE: 13/12/2022\n"
   ]
  },
  {
   "cell_type": "code",
   "execution_count": 14,
   "metadata": {},
   "outputs": [
    {
     "data": {
      "text/html": [
       "<div>\n",
       "<style scoped>\n",
       "    .dataframe tbody tr th:only-of-type {\n",
       "        vertical-align: middle;\n",
       "    }\n",
       "\n",
       "    .dataframe tbody tr th {\n",
       "        vertical-align: top;\n",
       "    }\n",
       "\n",
       "    .dataframe thead th {\n",
       "        text-align: right;\n",
       "    }\n",
       "</style>\n",
       "<table border=\"1\" class=\"dataframe\">\n",
       "  <thead>\n",
       "    <tr style=\"text-align: right;\">\n",
       "      <th></th>\n",
       "      <th>name</th>\n",
       "      <th>sample</th>\n",
       "      <th>flow_rate</th>\n",
       "      <th>voltage</th>\n",
       "      <th>current PS</th>\n",
       "      <th>temperature</th>\n",
       "      <th>humidity</th>\n",
       "      <th>date and time</th>\n",
       "      <th>target voltage</th>\n",
       "      <th>mean</th>\n",
       "      <th>variance</th>\n",
       "      <th>deviation</th>\n",
       "      <th>median</th>\n",
       "      <th>rms</th>\n",
       "      <th>classification</th>\n",
       "    </tr>\n",
       "  </thead>\n",
       "  <tbody>\n",
       "    <tr>\n",
       "      <th>0</th>\n",
       "      <td>setup/liquid/ethanol</td>\n",
       "      <td>[16.60377311706543, 17.106918334960938, 20.628...</td>\n",
       "      <td>2.777800e-09</td>\n",
       "      <td>3001.54</td>\n",
       "      <td>-8.72663e-09</td>\n",
       "      <td>10</td>\n",
       "      <td>10</td>\n",
       "      <td>Mon_05 Dec 2022</td>\n",
       "      <td>3000</td>\n",
       "      <td>9.681536</td>\n",
       "      <td>29.664858</td>\n",
       "      <td>5.446546</td>\n",
       "      <td>9.056603</td>\n",
       "      <td>11.108419</td>\n",
       "      <td>Intermittent</td>\n",
       "    </tr>\n",
       "    <tr>\n",
       "      <th>1</th>\n",
       "      <td>setup/liquid/ethanol</td>\n",
       "      <td>[2.51572322845459, -0.7547169923782349, 4.0251...</td>\n",
       "      <td>2.777800e-09</td>\n",
       "      <td>3001.54</td>\n",
       "      <td>-8.72663e-09</td>\n",
       "      <td>10</td>\n",
       "      <td>10</td>\n",
       "      <td>Mon_05 Dec 2022</td>\n",
       "      <td>3000</td>\n",
       "      <td>1.308936</td>\n",
       "      <td>11.688127</td>\n",
       "      <td>3.418790</td>\n",
       "      <td>1.257862</td>\n",
       "      <td>3.660798</td>\n",
       "      <td>Dripping</td>\n",
       "    </tr>\n",
       "    <tr>\n",
       "      <th>2</th>\n",
       "      <td>setup/liquid/ethanol</td>\n",
       "      <td>[4.276729583740234, -4.0251569747924805, 1.509...</td>\n",
       "      <td>2.777800e-09</td>\n",
       "      <td>3051.29</td>\n",
       "      <td>-6.71951e-09</td>\n",
       "      <td>10</td>\n",
       "      <td>10</td>\n",
       "      <td>Mon_05 Dec 2022</td>\n",
       "      <td>3050</td>\n",
       "      <td>0.059411</td>\n",
       "      <td>11.729643</td>\n",
       "      <td>3.424857</td>\n",
       "      <td>0.000000</td>\n",
       "      <td>3.425372</td>\n",
       "      <td>Dripping</td>\n",
       "    </tr>\n",
       "    <tr>\n",
       "      <th>3</th>\n",
       "      <td>setup/liquid/ethanol</td>\n",
       "      <td>[-2.7672955989837646, 4.0251569747924805, -1.0...</td>\n",
       "      <td>2.777800e-09</td>\n",
       "      <td>3051.29</td>\n",
       "      <td>-6.71951e-09</td>\n",
       "      <td>10</td>\n",
       "      <td>10</td>\n",
       "      <td>Mon_05 Dec 2022</td>\n",
       "      <td>3050</td>\n",
       "      <td>0.275150</td>\n",
       "      <td>11.389175</td>\n",
       "      <td>3.374785</td>\n",
       "      <td>0.251572</td>\n",
       "      <td>3.385983</td>\n",
       "      <td>Dripping</td>\n",
       "    </tr>\n",
       "    <tr>\n",
       "      <th>4</th>\n",
       "      <td>setup/liquid/ethanol</td>\n",
       "      <td>[1.7610063552856445, -6.5408806800842285, -4.0...</td>\n",
       "      <td>2.777800e-09</td>\n",
       "      <td>3101.34</td>\n",
       "      <td>-5.84684e-09</td>\n",
       "      <td>10</td>\n",
       "      <td>10</td>\n",
       "      <td>Mon_05 Dec 2022</td>\n",
       "      <td>3100</td>\n",
       "      <td>0.277867</td>\n",
       "      <td>10.940171</td>\n",
       "      <td>3.307593</td>\n",
       "      <td>0.251572</td>\n",
       "      <td>3.319244</td>\n",
       "      <td>Dripping</td>\n",
       "    </tr>\n",
       "  </tbody>\n",
       "</table>\n",
       "</div>"
      ],
      "text/plain": [
       "                   name                                             sample  \\\n",
       "0  setup/liquid/ethanol  [16.60377311706543, 17.106918334960938, 20.628...   \n",
       "1  setup/liquid/ethanol  [2.51572322845459, -0.7547169923782349, 4.0251...   \n",
       "2  setup/liquid/ethanol  [4.276729583740234, -4.0251569747924805, 1.509...   \n",
       "3  setup/liquid/ethanol  [-2.7672955989837646, 4.0251569747924805, -1.0...   \n",
       "4  setup/liquid/ethanol  [1.7610063552856445, -6.5408806800842285, -4.0...   \n",
       "\n",
       "      flow_rate  voltage    current PS temperature humidity    date and time  \\\n",
       "0  2.777800e-09  3001.54  -8.72663e-09          10       10  Mon_05 Dec 2022   \n",
       "1  2.777800e-09  3001.54  -8.72663e-09          10       10  Mon_05 Dec 2022   \n",
       "2  2.777800e-09  3051.29  -6.71951e-09          10       10  Mon_05 Dec 2022   \n",
       "3  2.777800e-09  3051.29  -6.71951e-09          10       10  Mon_05 Dec 2022   \n",
       "4  2.777800e-09  3101.34  -5.84684e-09          10       10  Mon_05 Dec 2022   \n",
       "\n",
       "   target voltage      mean   variance  deviation    median        rms  \\\n",
       "0            3000  9.681536  29.664858   5.446546  9.056603  11.108419   \n",
       "1            3000  1.308936  11.688127   3.418790  1.257862   3.660798   \n",
       "2            3050  0.059411  11.729643   3.424857  0.000000   3.425372   \n",
       "3            3050  0.275150  11.389175   3.374785  0.251572   3.385983   \n",
       "4            3100  0.277867  10.940171   3.307593  0.251572   3.319244   \n",
       "\n",
       "  classification  \n",
       "0   Intermittent  \n",
       "1       Dripping  \n",
       "2       Dripping  \n",
       "3       Dripping  \n",
       "4       Dripping  "
      ]
     },
     "execution_count": 14,
     "metadata": {},
     "output_type": "execute_result"
    }
   ],
   "source": [
    "from sklearn.neural_network import MLPClassifier\n",
    "from sklearn.datasets import make_classification\n",
    "from sklearn.model_selection import train_test_split\n",
    "import pandas as pd\n",
    "import numpy as np\n",
    "\n",
    "\n",
    "data = pd.read_feather('Data/Piero_data_classified.feather')\n",
    "data.head()"
   ]
  },
  {
   "cell_type": "code",
   "execution_count": 15,
   "metadata": {},
   "outputs": [],
   "source": [
    "X = data['sample'].to_numpy()\n",
    "y = data['classification']\n",
    "\n",
    "X = np.array(X.tolist())\n"
   ]
  },
  {
   "cell_type": "code",
   "execution_count": 16,
   "metadata": {},
   "outputs": [],
   "source": [
    "X_train, X_test, y_train, y_test = train_test_split(X, y, test_size=0.3, shuffle=True, random_state=100)"
   ]
  },
  {
   "cell_type": "code",
   "execution_count": 9,
   "metadata": {},
   "outputs": [],
   "source": [
    "clf = MLPClassifier(random_state=100, max_iter=5000).fit(X_train, y_train)\n",
    "\n",
    "\n",
    "# clf = MLPClassifier(\n",
    "#                 solver=\"lbfgs\",\n",
    "#                 alpha=1,\n",
    "#                 random_state=1,\n",
    "#                 max_iter=2000,\n",
    "#                 early_stopping=True,\n",
    "#                 hidden_layer_sizes=[10, 10]\n",
    "#                 ).fit(X, y)"
   ]
  },
  {
   "cell_type": "code",
   "execution_count": 19,
   "metadata": {},
   "outputs": [
    {
     "data": {
      "text/plain": [
       "array([[0.18899523, 0.09403509, 0.10542055, 0.18564626, 0.36255051,\n",
       "        0.06335237]])"
      ]
     },
     "execution_count": 19,
     "metadata": {},
     "output_type": "execute_result"
    }
   ],
   "source": [
    "clf.predict_proba(X_test[:1])"
   ]
  },
  {
   "cell_type": "code",
   "execution_count": 20,
   "metadata": {},
   "outputs": [
    {
     "data": {
      "text/plain": [
       "array(['Multi Jet', 'Multi Jet', 'Multi Jet', 'Multi Jet', 'Multi Jet'],\n",
       "      dtype='<U12')"
      ]
     },
     "execution_count": 20,
     "metadata": {},
     "output_type": "execute_result"
    }
   ],
   "source": [
    "clf.predict(X_test[:5, :])"
   ]
  },
  {
   "cell_type": "code",
   "execution_count": 21,
   "metadata": {},
   "outputs": [
    {
     "data": {
      "text/plain": [
       "0.37328453796889294"
      ]
     },
     "execution_count": 21,
     "metadata": {},
     "output_type": "execute_result"
    }
   ],
   "source": [
    "clf.score(X_test, y_test)"
   ]
  }
 ],
 "metadata": {
  "kernelspec": {
   "display_name": "Python 3",
   "language": "python",
   "name": "python3"
  },
  "language_info": {
   "codemirror_mode": {
    "name": "ipython",
    "version": 3
   },
   "file_extension": ".py",
   "mimetype": "text/x-python",
   "name": "python",
   "nbconvert_exporter": "python",
   "pygments_lexer": "ipython3",
   "version": "3.11.1 (main, Dec 23 2022, 09:28:24) [Clang 14.0.0 (clang-1400.0.29.202)]"
  },
  "orig_nbformat": 4,
  "vscode": {
   "interpreter": {
    "hash": "5c7b89af1651d0b8571dde13640ecdccf7d5a6204171d6ab33e7c296e100e08a"
   }
  }
 },
 "nbformat": 4,
 "nbformat_minor": 2
}
