{
 "cells": [
  {
   "attachments": {},
   "cell_type": "markdown",
   "metadata": {},
   "source": [
    "### Plot raw data"
   ]
  },
  {
   "cell_type": "code",
   "execution_count": 1,
   "metadata": {},
   "outputs": [],
   "source": [
    "import pandas as pd\n",
    "import matplotlib.pyplot as plt"
   ]
  },
  {
   "cell_type": "code",
   "execution_count": 3,
   "metadata": {},
   "outputs": [
    {
     "name": "stdout",
     "output_type": "stream",
     "text": [
      "<class 'pandas.core.frame.DataFrame'>\n",
      "RangeIndex: 7301 entries, 0 to 7300\n",
      "Data columns (total 16 columns):\n",
      " #   Column          Non-Null Count  Dtype         \n",
      "---  ------          --------------  -----         \n",
      " 0   index           7301 non-null   object        \n",
      " 1   name            7301 non-null   object        \n",
      " 2   current         7301 non-null   object        \n",
      " 3   flow_rate       7301 non-null   float64       \n",
      " 4   voltage         7301 non-null   float64       \n",
      " 5   current_PS      7301 non-null   float64       \n",
      " 6   temperature     7301 non-null   float64       \n",
      " 7   humidity        7301 non-null   int64         \n",
      " 8   date_and_time   7301 non-null   datetime64[ns]\n",
      " 9   target_voltage  7301 non-null   int64         \n",
      " 10  mean            7301 non-null   float64       \n",
      " 11  variance        7301 non-null   float64       \n",
      " 12  deviation       7301 non-null   float64       \n",
      " 13  median          7301 non-null   float64       \n",
      " 14  rms             7301 non-null   float64       \n",
      " 15  spray_mode      7301 non-null   object        \n",
      "dtypes: datetime64[ns](1), float64(9), int64(2), object(4)\n",
      "memory usage: 912.8+ KB\n"
     ]
    }
   ],
   "source": [
    "df = pd.read_feather('Data/map_23-03-02.feather')\n"
   ]
  },
  {
   "cell_type": "code",
   "execution_count": 5,
   "metadata": {},
   "outputs": [],
   "source": [
    "\n",
    "df = df.drop(columns=['index', 'name', 'current_PS', 'target_voltage'])"
   ]
  },
  {
   "cell_type": "code",
   "execution_count": 9,
   "metadata": {},
   "outputs": [
    {
     "data": {
      "text/html": [
       "<div>\n",
       "<style scoped>\n",
       "    .dataframe tbody tr th:only-of-type {\n",
       "        vertical-align: middle;\n",
       "    }\n",
       "\n",
       "    .dataframe tbody tr th {\n",
       "        vertical-align: top;\n",
       "    }\n",
       "\n",
       "    .dataframe thead th {\n",
       "        text-align: right;\n",
       "    }\n",
       "</style>\n",
       "<table border=\"1\" class=\"dataframe\">\n",
       "  <thead>\n",
       "    <tr style=\"text-align: right;\">\n",
       "      <th></th>\n",
       "      <th>current</th>\n",
       "      <th>flow_rate</th>\n",
       "      <th>voltage</th>\n",
       "      <th>temperature</th>\n",
       "      <th>humidity</th>\n",
       "      <th>date_and_time</th>\n",
       "      <th>mean</th>\n",
       "      <th>variance</th>\n",
       "      <th>deviation</th>\n",
       "      <th>median</th>\n",
       "      <th>rms</th>\n",
       "      <th>spray_mode</th>\n",
       "    </tr>\n",
       "  </thead>\n",
       "  <tbody>\n",
       "    <tr>\n",
       "      <th>0</th>\n",
       "      <td>[4.779874324798584, 2.767295598983764, 8.30188...</td>\n",
       "      <td>0.5</td>\n",
       "      <td>3001.60</td>\n",
       "      <td>23.1</td>\n",
       "      <td>37</td>\n",
       "      <td>2023-03-02 14:55:23.347102</td>\n",
       "      <td>0.828372</td>\n",
       "      <td>21.672516</td>\n",
       "      <td>4.655375</td>\n",
       "      <td>1.006289</td>\n",
       "      <td>4.728500</td>\n",
       "      <td>Dripping</td>\n",
       "    </tr>\n",
       "    <tr>\n",
       "      <th>1</th>\n",
       "      <td>[-2.01257848739624, 4.52830171585083, 4.025156...</td>\n",
       "      <td>0.5</td>\n",
       "      <td>3001.60</td>\n",
       "      <td>23.1</td>\n",
       "      <td>37</td>\n",
       "      <td>2023-03-02 14:55:24.100557</td>\n",
       "      <td>0.763567</td>\n",
       "      <td>21.944117</td>\n",
       "      <td>4.684455</td>\n",
       "      <td>1.006289</td>\n",
       "      <td>4.746277</td>\n",
       "      <td>Dripping</td>\n",
       "    </tr>\n",
       "    <tr>\n",
       "      <th>2</th>\n",
       "      <td>[-2.767295598983764, 3.522012710571289, 11.572...</td>\n",
       "      <td>0.5</td>\n",
       "      <td>3001.60</td>\n",
       "      <td>23.1</td>\n",
       "      <td>37</td>\n",
       "      <td>2023-03-02 14:55:24.795415</td>\n",
       "      <td>1.200654</td>\n",
       "      <td>21.832703</td>\n",
       "      <td>4.672548</td>\n",
       "      <td>1.257862</td>\n",
       "      <td>4.824342</td>\n",
       "      <td>Dripping</td>\n",
       "    </tr>\n",
       "    <tr>\n",
       "      <th>3</th>\n",
       "      <td>[2.51572322845459, 1.761006355285644, 1.509433...</td>\n",
       "      <td>0.5</td>\n",
       "      <td>3101.35</td>\n",
       "      <td>23.1</td>\n",
       "      <td>37</td>\n",
       "      <td>2023-03-02 14:55:25.585353</td>\n",
       "      <td>1.159587</td>\n",
       "      <td>21.792826</td>\n",
       "      <td>4.668279</td>\n",
       "      <td>1.257862</td>\n",
       "      <td>4.810142</td>\n",
       "      <td>Dripping</td>\n",
       "    </tr>\n",
       "    <tr>\n",
       "      <th>4</th>\n",
       "      <td>[6.792452812194824, -0.5031446218490601, 1.257...</td>\n",
       "      <td>0.5</td>\n",
       "      <td>3101.35</td>\n",
       "      <td>23.1</td>\n",
       "      <td>37</td>\n",
       "      <td>2023-03-02 14:55:26.490027</td>\n",
       "      <td>1.138501</td>\n",
       "      <td>21.732040</td>\n",
       "      <td>4.661764</td>\n",
       "      <td>1.257862</td>\n",
       "      <td>4.798773</td>\n",
       "      <td>Dripping</td>\n",
       "    </tr>\n",
       "  </tbody>\n",
       "</table>\n",
       "</div>"
      ],
      "text/plain": [
       "                                             current  flow_rate  voltage  \\\n",
       "0  [4.779874324798584, 2.767295598983764, 8.30188...        0.5  3001.60   \n",
       "1  [-2.01257848739624, 4.52830171585083, 4.025156...        0.5  3001.60   \n",
       "2  [-2.767295598983764, 3.522012710571289, 11.572...        0.5  3001.60   \n",
       "3  [2.51572322845459, 1.761006355285644, 1.509433...        0.5  3101.35   \n",
       "4  [6.792452812194824, -0.5031446218490601, 1.257...        0.5  3101.35   \n",
       "\n",
       "   temperature  humidity              date_and_time      mean   variance  \\\n",
       "0         23.1        37 2023-03-02 14:55:23.347102  0.828372  21.672516   \n",
       "1         23.1        37 2023-03-02 14:55:24.100557  0.763567  21.944117   \n",
       "2         23.1        37 2023-03-02 14:55:24.795415  1.200654  21.832703   \n",
       "3         23.1        37 2023-03-02 14:55:25.585353  1.159587  21.792826   \n",
       "4         23.1        37 2023-03-02 14:55:26.490027  1.138501  21.732040   \n",
       "\n",
       "   deviation    median       rms spray_mode  \n",
       "0   4.655375  1.006289  4.728500   Dripping  \n",
       "1   4.684455  1.006289  4.746277   Dripping  \n",
       "2   4.672548  1.257862  4.824342   Dripping  \n",
       "3   4.668279  1.257862  4.810142   Dripping  \n",
       "4   4.661764  1.257862  4.798773   Dripping  "
      ]
     },
     "execution_count": 9,
     "metadata": {},
     "output_type": "execute_result"
    }
   ],
   "source": [
    "\n",
    "df = df.loc[df['flow_rate'] == 0.5]\n",
    "\n",
    "df.reset_index(drop=True).head()"
   ]
  },
  {
   "cell_type": "code",
   "execution_count": 17,
   "metadata": {},
   "outputs": [
    {
     "data": {
      "image/png": "[encoded data removed]",
      "text/plain": [
       "<Figure size 640x480 with 1 Axes>"
      ]
     },
     "metadata": {},
     "output_type": "display_data"
    }
   ],
   "source": [
    "import numpy as np\n",
    "\n",
    "size = 50000\n",
    "last_value = 0\n",
    "\n",
    "for sample in df.index:\n",
    "    if df['spray_mode'][sample] == 'Dripping':\n",
    "        plt.plot(np.arange(last_value, last_value + size)/1e5, df['current'][sample], c='green', label='Dripping')\n",
    "    elif df['spray_mode'][sample] == 'Intermittent':\n",
    "        plt.plot(np.arange(last_value, last_value + size)/1e5, df['current'][sample], c='blue', label='Intermittent')\n",
    "    elif df['spray_mode'][sample] == 'Cone Jet':\n",
    "        plt.plot(np.arange(last_value, last_value + size)/1e5, df['current'][sample], c='red', label='Cone Jet')\n",
    "    elif df['spray_mode'][sample] == 'Multi Jet':\n",
    "        plt.plot(np.arange(last_value, last_value + size)/1e5, df['current'][sample], c='purple', label='Multi Jet')\n",
    "    elif df['spray_mode'][sample] == 'Undefined':\n",
    "        plt.plot(np.arange(last_value, last_value + size)/1e5, df['current'][sample], c='black', label='Undefined')\n",
    "    elif df['spray_mode'][sample] == 'Corona':\n",
    "        plt.plot(np.arange(last_value, last_value + size)/1e5, df['current'][sample], c='cyan', label='Corona')\n",
    "    last_value += size\n",
    "\n",
    "plt.ylim(-50, 250)\n",
    "plt.xlim(right=113)\n",
    "\n",
    "plt.show()"
   ]
  }
 ],
 "metadata": {
  "kernelspec": {
   "display_name": "Python 3",
   "language": "python",
   "name": "python3"
  },
  "language_info": {
   "codemirror_mode": {
    "name": "ipython",
    "version": 3
   },
   "file_extension": ".py",
   "mimetype": "text/x-python",
   "name": "python",
   "nbconvert_exporter": "python",
   "pygments_lexer": "ipython3",
   "version": "3.9.6"
  },
  "orig_nbformat": 4,
  "vscode": {
   "interpreter": {
    "hash": "31f2aee4e71d21fbe5cf8b01ff0e069b9275f58929596ceb00d14d90e3e16cd6"
   }
  }
 },
 "nbformat": 4,
 "nbformat_minor": 2
}
