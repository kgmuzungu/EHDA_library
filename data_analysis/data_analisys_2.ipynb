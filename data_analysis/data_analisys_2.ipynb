{
 "cells": [
  {
   "attachments": {},
   "cell_type": "markdown",
   "metadata": {},
   "source": [
    "### IMPORT"
   ]
  },
  {
   "cell_type": "code",
   "execution_count": 13,
   "metadata": {},
   "outputs": [],
   "source": [
    "import pandas as pd\n",
    "import json\n",
    "  \n",
    "\n",
    "df = pd.read_feather('Data/map5')"
   ]
  },
  {
   "attachments": {},
   "cell_type": "markdown",
   "metadata": {},
   "source": [
    "### Extracting first value from classification list"
   ]
  },
  {
   "cell_type": "code",
   "execution_count": 8,
   "metadata": {},
   "outputs": [
    {
     "data": {
      "text/html": [
       "<div>\n",
       "<style scoped>\n",
       "    .dataframe tbody tr th:only-of-type {\n",
       "        vertical-align: middle;\n",
       "    }\n",
       "\n",
       "    .dataframe tbody tr th {\n",
       "        vertical-align: top;\n",
       "    }\n",
       "\n",
       "    .dataframe thead th {\n",
       "        text-align: right;\n",
       "    }\n",
       "</style>\n",
       "<table border=\"1\" class=\"dataframe\">\n",
       "  <thead>\n",
       "    <tr style=\"text-align: right;\">\n",
       "      <th></th>\n",
       "      <th>index</th>\n",
       "      <th>name</th>\n",
       "      <th>data [nA]</th>\n",
       "      <th>flow rate [m3/s]</th>\n",
       "      <th>voltage</th>\n",
       "      <th>current PS</th>\n",
       "      <th>temperature</th>\n",
       "      <th>humidity</th>\n",
       "      <th>date and time</th>\n",
       "      <th>target voltage</th>\n",
       "      <th>mean</th>\n",
       "      <th>variance</th>\n",
       "      <th>deviation</th>\n",
       "      <th>median</th>\n",
       "      <th>rms</th>\n",
       "      <th>spray_mode</th>\n",
       "    </tr>\n",
       "  </thead>\n",
       "  <tbody>\n",
       "    <tr>\n",
       "      <th>0</th>\n",
       "      <td>sample 0</td>\n",
       "      <td>setup/liquid/ethanol</td>\n",
       "      <td>[-64.90565490722656, -72.70440673828125, -71.4...</td>\n",
       "      <td>0.1</td>\n",
       "      <td>4501.74</td>\n",
       "      <td>-1.675510e-08</td>\n",
       "      <td>0</td>\n",
       "      <td>0</td>\n",
       "      <td>Fri_10 Feb 2023</td>\n",
       "      <td>4500</td>\n",
       "      <td>-22.780567</td>\n",
       "      <td>261.774475</td>\n",
       "      <td>16.179445</td>\n",
       "      <td>-18.364780</td>\n",
       "      <td>27.941526</td>\n",
       "      <td>Undefined</td>\n",
       "    </tr>\n",
       "    <tr>\n",
       "      <th>1</th>\n",
       "      <td>sample 1</td>\n",
       "      <td>setup/liquid/ethanol</td>\n",
       "      <td>[-3.773584842681884, -2.01257848739624, -5.786...</td>\n",
       "      <td>0.1</td>\n",
       "      <td>4501.74</td>\n",
       "      <td>-1.675510e-08</td>\n",
       "      <td>19.40\\r\\n</td>\n",
       "      <td>0</td>\n",
       "      <td>Fri_10 Feb 2023</td>\n",
       "      <td>4500</td>\n",
       "      <td>-0.710118</td>\n",
       "      <td>23.613165</td>\n",
       "      <td>4.859338</td>\n",
       "      <td>-0.503145</td>\n",
       "      <td>4.910950</td>\n",
       "      <td>Undefined</td>\n",
       "    </tr>\n",
       "    <tr>\n",
       "      <th>2</th>\n",
       "      <td>sample 2</td>\n",
       "      <td>setup/liquid/ethanol</td>\n",
       "      <td>[0.7547169923782341, -3.522012710571289, 0.754...</td>\n",
       "      <td>0.1</td>\n",
       "      <td>4501.74</td>\n",
       "      <td>-1.675510e-08</td>\n",
       "      <td>19.40\\r\\n</td>\n",
       "      <td>38</td>\n",
       "      <td>Fri_10 Feb 2023</td>\n",
       "      <td>4500</td>\n",
       "      <td>-0.401273</td>\n",
       "      <td>23.839987</td>\n",
       "      <td>4.882621</td>\n",
       "      <td>0.000000</td>\n",
       "      <td>4.899082</td>\n",
       "      <td>Undefined</td>\n",
       "    </tr>\n",
       "    <tr>\n",
       "      <th>3</th>\n",
       "      <td>sample 3</td>\n",
       "      <td>setup/liquid/ethanol</td>\n",
       "      <td>[-3.773584842681884, 0.25157231092453003, 1.50...</td>\n",
       "      <td>0.1</td>\n",
       "      <td>4501.74</td>\n",
       "      <td>-1.675510e-08</td>\n",
       "      <td>19.40\\r\\n</td>\n",
       "      <td>38</td>\n",
       "      <td>Fri_10 Feb 2023</td>\n",
       "      <td>4500</td>\n",
       "      <td>-0.173640</td>\n",
       "      <td>23.772942</td>\n",
       "      <td>4.875751</td>\n",
       "      <td>0.251572</td>\n",
       "      <td>4.878841</td>\n",
       "      <td>Undefined</td>\n",
       "    </tr>\n",
       "    <tr>\n",
       "      <th>4</th>\n",
       "      <td>sample 4</td>\n",
       "      <td>setup/liquid/ethanol</td>\n",
       "      <td>[-3.2704403400421143, -5.534591197967529, -6.2...</td>\n",
       "      <td>0.1</td>\n",
       "      <td>4501.74</td>\n",
       "      <td>-1.675510e-08</td>\n",
       "      <td>19.40\\r\\n</td>\n",
       "      <td>38</td>\n",
       "      <td>Fri_10 Feb 2023</td>\n",
       "      <td>4500</td>\n",
       "      <td>-0.185917</td>\n",
       "      <td>23.495802</td>\n",
       "      <td>4.847247</td>\n",
       "      <td>0.251572</td>\n",
       "      <td>4.850811</td>\n",
       "      <td>Undefined</td>\n",
       "    </tr>\n",
       "  </tbody>\n",
       "</table>\n",
       "</div>"
      ],
      "text/plain": [
       "      index                  name  \\\n",
       "0  sample 0  setup/liquid/ethanol   \n",
       "1  sample 1  setup/liquid/ethanol   \n",
       "2  sample 2  setup/liquid/ethanol   \n",
       "3  sample 3  setup/liquid/ethanol   \n",
       "4  sample 4  setup/liquid/ethanol   \n",
       "\n",
       "                                           data [nA]  flow rate [m3/s]  \\\n",
       "0  [-64.90565490722656, -72.70440673828125, -71.4...               0.1   \n",
       "1  [-3.773584842681884, -2.01257848739624, -5.786...               0.1   \n",
       "2  [0.7547169923782341, -3.522012710571289, 0.754...               0.1   \n",
       "3  [-3.773584842681884, 0.25157231092453003, 1.50...               0.1   \n",
       "4  [-3.2704403400421143, -5.534591197967529, -6.2...               0.1   \n",
       "\n",
       "   voltage    current PS temperature  humidity    date and time  \\\n",
       "0  4501.74 -1.675510e-08           0         0  Fri_10 Feb 2023   \n",
       "1  4501.74 -1.675510e-08   19.40\\r\\n         0  Fri_10 Feb 2023   \n",
       "2  4501.74 -1.675510e-08   19.40\\r\\n        38  Fri_10 Feb 2023   \n",
       "3  4501.74 -1.675510e-08   19.40\\r\\n        38  Fri_10 Feb 2023   \n",
       "4  4501.74 -1.675510e-08   19.40\\r\\n        38  Fri_10 Feb 2023   \n",
       "\n",
       "   target voltage       mean    variance  deviation     median        rms  \\\n",
       "0            4500 -22.780567  261.774475  16.179445 -18.364780  27.941526   \n",
       "1            4500  -0.710118   23.613165   4.859338  -0.503145   4.910950   \n",
       "2            4500  -0.401273   23.839987   4.882621   0.000000   4.899082   \n",
       "3            4500  -0.173640   23.772942   4.875751   0.251572   4.878841   \n",
       "4            4500  -0.185917   23.495802   4.847247   0.251572   4.850811   \n",
       "\n",
       "  spray_mode  \n",
       "0  Undefined  \n",
       "1  Undefined  \n",
       "2  Undefined  \n",
       "3  Undefined  \n",
       "4  Undefined  "
      ]
     },
     "execution_count": 8,
     "metadata": {},
     "output_type": "execute_result"
    }
   ],
   "source": [
    "df['new_class'] = df['spray mode'].apply(lambda x: str(x[0]))\n",
    "df = df.drop('spray mode', axis=1).rename(columns={'new_class': 'spray_mode'})\n",
    "df.head()"
   ]
  },
  {
   "cell_type": "code",
   "execution_count": 16,
   "metadata": {},
   "outputs": [],
   "source": [
    "sample = df['spray_mode'][0]"
   ]
  },
  {
   "cell_type": "code",
   "execution_count": 22,
   "metadata": {},
   "outputs": [
    {
     "name": "stdout",
     "output_type": "stream",
     "text": [
      "<class 'pandas.core.frame.DataFrame'>\n",
      "RangeIndex: 3880 entries, 0 to 3879\n",
      "Data columns (total 16 columns):\n",
      " #   Column            Non-Null Count  Dtype  \n",
      "---  ------            --------------  -----  \n",
      " 0   index             3880 non-null   object \n",
      " 1   name              3880 non-null   object \n",
      " 2   data [nA]         3880 non-null   object \n",
      " 3   flow rate [m3/s]  3880 non-null   float64\n",
      " 4   voltage           3880 non-null   float64\n",
      " 5   current PS        3880 non-null   float64\n",
      " 6   temperature       3880 non-null   object \n",
      " 7   humidity          3880 non-null   int64  \n",
      " 8   date and time     3880 non-null   object \n",
      " 9   target voltage    3880 non-null   int64  \n",
      " 10  mean              3880 non-null   float64\n",
      " 11  variance          3880 non-null   float64\n",
      " 12  deviation         3880 non-null   float64\n",
      " 13  median            3880 non-null   float64\n",
      " 14  rms               3880 non-null   float64\n",
      " 15  spray_mode        3880 non-null   object \n",
      "dtypes: float64(8), int64(2), object(6)\n",
      "memory usage: 485.1+ KB\n",
      "<class 'pandas.core.frame.DataFrame'>\n",
      "Int64Index: 413 entries, 0 to 3871\n",
      "Data columns (total 16 columns):\n",
      " #   Column            Non-Null Count  Dtype  \n",
      "---  ------            --------------  -----  \n",
      " 0   index             413 non-null    object \n",
      " 1   name              413 non-null    object \n",
      " 2   data [nA]         413 non-null    object \n",
      " 3   flow rate [m3/s]  413 non-null    float64\n",
      " 4   voltage           413 non-null    float64\n",
      " 5   current PS        413 non-null    float64\n",
      " 6   temperature       413 non-null    object \n",
      " 7   humidity          413 non-null    int64  \n",
      " 8   date and time     413 non-null    object \n",
      " 9   target voltage    413 non-null    int64  \n",
      " 10  mean              413 non-null    float64\n",
      " 11  variance          413 non-null    float64\n",
      " 12  deviation         413 non-null    float64\n",
      " 13  median            413 non-null    float64\n",
      " 14  rms               413 non-null    float64\n",
      " 15  spray_mode        413 non-null    object \n",
      "dtypes: float64(8), int64(2), object(6)\n",
      "memory usage: 54.9+ KB\n"
     ]
    }
   ],
   "source": [
    "df = df.loc[df['spray_mode'] == 'Undefined']\n",
    "\n",
    "df.info()\n",
    "df1.info()"
   ]
  },
  {
   "attachments": {},
   "cell_type": "markdown",
   "metadata": {},
   "source": [
    "### MAPA"
   ]
  },
  {
   "cell_type": "code",
   "execution_count": 2,
   "metadata": {},
   "outputs": [],
   "source": [
    "'''\n",
    "\tAnalysis of mapping V x FR experiments\n",
    "\tAUTHOR: 乔昂 - jueta\n",
    "\tDATE: 19/01/2023\n",
    "'''\n",
    "\n",
    "import pandas as pd\n",
    "from pandas.io.json import json_normalize\n",
    "import json\n",
    "import matplotlib.pyplot as plt\n",
    "from sklearn.utils import column_or_1d\n",
    "import numpy as np\n",
    "from scipy.signal import butter, lfilter\n",
    "\n"
   ]
  },
  {
   "cell_type": "code",
   "execution_count": 5,
   "metadata": {},
   "outputs": [
    {
     "ename": "NameError",
     "evalue": "name 'plt' is not defined",
     "output_type": "error",
     "traceback": [
      "\u001b[0;31m---------------------------------------------------------------------------\u001b[0m",
      "\u001b[0;31mNameError\u001b[0m                                 Traceback (most recent call last)",
      "Cell \u001b[0;32mIn[5], line 2\u001b[0m\n\u001b[1;32m      1\u001b[0m df[\u001b[39m'\u001b[39m\u001b[39mflow_rate\u001b[39m\u001b[39m'\u001b[39m] \u001b[39m=\u001b[39m df[\u001b[39m'\u001b[39m\u001b[39mflow_rate\u001b[39m\u001b[39m'\u001b[39m]\u001b[39m.\u001b[39mastype(\u001b[39mfloat\u001b[39m)\n\u001b[0;32m----> 2\u001b[0m plt\u001b[39m.\u001b[39mscatter(df[\u001b[39m'\u001b[39m\u001b[39mflow_rate\u001b[39m\u001b[39m'\u001b[39m], df[\u001b[39m'\u001b[39m\u001b[39mtarget_voltage\u001b[39m\u001b[39m'\u001b[39m], color\u001b[39m=\u001b[39mdf[\u001b[39m'\u001b[39m\u001b[39mcolormap\u001b[39m\u001b[39m'\u001b[39m])\n\u001b[1;32m      3\u001b[0m plt\u001b[39m.\u001b[39mylabel(\u001b[39m'\u001b[39m\u001b[39mVoltage [V]\u001b[39m\u001b[39m'\u001b[39m)\n\u001b[1;32m      4\u001b[0m plt\u001b[39m.\u001b[39mxlabel(\u001b[39m'\u001b[39m\u001b[39mFlow Rate [uL/min]\u001b[39m\u001b[39m'\u001b[39m)\n",
      "\u001b[0;31mNameError\u001b[0m: name 'plt' is not defined"
     ]
    }
   ],
   "source": [
    "\n",
    "\n",
    "df['flow_rate'] = df['flow_rate'].astype(float)\n",
    "plt.scatter(df['flow_rate'], df['target_voltage'], color=df['colormap'])\n",
    "plt.ylabel('Voltage [V]')\n",
    "plt.xlabel('Flow Rate [uL/min]')\n",
    "plt.title(\"colors = {'Cone Jet':'red', 'Dripping':'green', 'Intermittent':'blue', 'Multi Jet':'purple', 'Undefined':'black', 'Corona':'cyan'}\")\n",
    "plt.show()\n"
   ]
  },
  {
   "attachments": {},
   "cell_type": "markdown",
   "metadata": {},
   "source": [
    "### FFT  -> Trying to get something from FFT"
   ]
  },
  {
   "cell_type": "code",
   "execution_count": 98,
   "metadata": {},
   "outputs": [],
   "source": [
    "import numpy as np\n",
    "\n",
    "sample = df['current'][600]\n",
    "classification = df['spray_mode'][600]\n",
    "sample_rate = 1e5\n",
    "n = sample.size\n",
    "\n",
    "fourier = np.fft.rfft(sample)\n",
    "frequencies = np.fft.rfftfreq(n, d=1./sample_rate)"
   ]
  },
  {
   "cell_type": "code",
   "execution_count": 99,
   "metadata": {},
   "outputs": [
    {
     "name": "stdout",
     "output_type": "stream",
     "text": [
      "Positions and magnitude of frequency peaks:\n",
      "49.9990    \t 1.9622\n",
      "99.9980    \t 0.8075\n",
      "149.9970    \t 0.5064\n",
      "199.9960    \t 0.2456\n",
      "249.9950    \t 0.2532\n",
      "399.9920    \t 0.2025\n",
      "21561.5688    \t 0.4305\n",
      "-21561.5688    \t 0.4305\n",
      "-399.9920    \t 0.2025\n",
      "-249.9950    \t 0.2532\n",
      "-199.9960    \t 0.2456\n",
      "-149.9970    \t 0.5064\n",
      "-99.9980    \t 0.8075\n",
      "-49.9990    \t 1.9622\n",
      "classification:  Cone Jet\n"
     ]
    },
    {
     "data": {
      "image/png": "[encoded data removed]",
      "text/plain": [
       "<Figure size 640x480 with 1 Axes>"
      ]
     },
     "metadata": {},
     "output_type": "display_data"
    }
   ],
   "source": [
    "import numpy as np\n",
    "import matplotlib.pyplot as plt\n",
    "from scipy.fft import fft, fftfreq\n",
    "from scipy.signal import find_peaks\n",
    "\n",
    "# Number of samplepoints\n",
    "N = sample.size\n",
    "# sample spacing\n",
    "T = 1.0 / sample_rate\n",
    "x = np.linspace(0.0, N*T, N)\n",
    "yf = fft(sample, norm='forward')\n",
    "xf = np.linspace(0.0, 1.0/(2.0*T), N//2)\n",
    "peaks_index, properties = find_peaks(np.abs(yf), height=0.2)\n",
    "\n",
    "dt=x[1]-x[0]  # time step of the data\n",
    "freq = fftfreq(n, d=dt)\n",
    "\n",
    "# Notes: \n",
    "# 1) peaks_index does not contain the frequency values but indices\n",
    "# 2) In this case, properties will contain only one property: 'peak_heights'\n",
    "#    for each element in peaks_index (See help(find_peaks) )\n",
    "\n",
    "# Let's first output the result to the terminal window:\n",
    "print('Positions and magnitude of frequency peaks:')\n",
    "[print(\"%4.4f    \\t %3.4f\" %(freq[peaks_index[i]], properties['peak_heights'][i])) for i in range(len(peaks_index))]\n",
    "\n",
    "\n",
    "# Figure-2: The frequencies\n",
    "\n",
    "plt.plot(freq, np.abs(yf),'-', freq[peaks_index],properties['peak_heights'],'x')\n",
    "print(\"classification: \", classification)\n",
    "plt.xlabel(\"Frequency\")\n",
    "plt.ylabel(\"Amplitude\")\n",
    "plt.show()\n",
    "\n",
    "\n",
    "# fig, ax = plt.subplots()\n",
    "# ax.plot(xf, 2.0/N * np.abs(yf[:N//2]))\n",
    "# plt.show()"
   ]
  }
 ],
 "metadata": {
  "kernelspec": {
   "display_name": "Python 3",
   "language": "python",
   "name": "python3"
  },
  "language_info": {
   "codemirror_mode": {
    "name": "ipython",
    "version": 3
   },
   "file_extension": ".py",
   "mimetype": "text/x-python",
   "name": "python",
   "nbconvert_exporter": "python",
   "pygments_lexer": "ipython3",
   "version": "3.9.6"
  },
  "orig_nbformat": 4,
  "vscode": {
   "interpreter": {
    "hash": "31f2aee4e71d21fbe5cf8b01ff0e069b9275f58929596ceb00d14d90e3e16cd6"
   }
  }
 },
 "nbformat": 4,
 "nbformat_minor": 2
}
